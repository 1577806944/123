{
 "cells": [
  {
   "cell_type": "code",
   "execution_count": null,
   "metadata": {},
   "outputs": [],
   "source": [
    "#5.2.1 继承\n",
    "class FoodClass(object):\n",
    "    a = \"food\"\n",
    "    def __init__(self) -> None:\n",
    "        print (1)\n",
    "    def __init__(self,eat):\n",
    "        self.eat = eat\n",
    "        print (2)\n",
    "    def f(self):\n",
    "        print (3)\n",
    "f = FoodClass('eat')\n",
    "print(f.eat)\n",
    "print(f.a)\n",
    "f.f()\n",
    "#问题1:执行下列语句得到什么结果？\n",
    "#f.a = 'test'\n",
    "#print(f.a)\n",
    "#------------------------------#\n",
    "#问题2： 执行下行语句得到什么结果？\n",
    "#f = FoodClass()\n"
   ]
  },
  {
   "cell_type": "code",
   "execution_count": null,
   "metadata": {},
   "outputs": [],
   "source": [
    "#5.2.2 多态\n",
    "#父类/基类\n",
    "class Animal():\n",
    "    def __init__(self,gender,age):\n",
    "        self.gender = gender\n",
    "        self.age = age\n",
    "    def shout(self,volume):\n",
    "        print(\"None\")\n",
    "#子类/派生类\n",
    "class Dog(Animal):\n",
    "    def shout(self,volume):\n",
    "        if(volume > 10):\n",
    "            print(\"Wang!\")\n",
    "        else:\n",
    "            print(\"Auo~\")\n",
    "class Cat(Animal):\n",
    "    def shout(self,volume):\n",
    "        if(volume > 10):\n",
    "            print(\"Miao!\")\n",
    "        else:\n",
    "            print(\"Mi~\")\n",
    "class Mouse(Animal):\n",
    "    pass\n",
    "ppdog = Dog('male',10)\n",
    "ppdog.shout(12)\n",
    "mmcat = Cat('female',1)\n",
    "mmcat.shout(3)\n",
    "ttmouse = Mouse('male',1)\n",
    "ttmouse.shout(12)\n"
   ]
  },
  {
   "cell_type": "code",
   "execution_count": null,
   "metadata": {},
   "outputs": [],
   "source": [
    "#5.2.3 多重继承\n",
    "class Fruit(object):\n",
    "    def __init__(self,name) -> None:\n",
    "        self.name = name\n",
    "        self.type = \"水果\"\n",
    "    def print_my_name(self):\n",
    "        print(\"我是--%s\"%self.name)\n",
    "    def print_my_type(self):\n",
    "        print(\"我是一种--%s\"%self.type)\n",
    "#f = Fruit('apple')\n",
    "#f.print_my_name()\n",
    "class Pome(Fruit):\n",
    "    def __init__(self,name) -> None:\n",
    "        self.name = name\n",
    "        self.type = \"仁果\"\n",
    "class Melons(Fruit):\n",
    "    def __init__(self,name) -> None:\n",
    "        self.name = name\n",
    "        self.type = \"瓜果\"\n",
    "class Colors(object):\n",
    "    def set_color(self,color):\n",
    "        self.color = color\n",
    "    def exict_message(self):\n",
    "        print(\"我是一个{0}的{1}类{2}\".format(self.color,self.type,self.name))\n",
    "p = Pome('梨子')\n",
    "print(p.type)\n",
    "#p.print_my_name()\n",
    "#p.print_my_type()\n",
    "class Apple(Pome,Colors):\n",
    "    pass\n",
    "class WaterMelon(Melons,Colors):\n",
    "    pass\n",
    "app = Apple(name='苹果')\n",
    "app.set_color('红色')\n",
    "app.exict_message()"
   ]
  },
  {
   "cell_type": "code",
   "execution_count": 2,
   "metadata": {},
   "outputs": [
    {
     "name": "stdout",
     "output_type": "stream",
     "text": [
      "我是水果apple\n",
      "<__main__.Fruit object at 0x7f9718616460>\n",
      "我是水果apple\n",
      "水果：apple\n"
     ]
    }
   ],
   "source": [
    "class Fruit(object):\n",
    "    def __init__(self,fruit):\n",
    "        self.fruit = fruit\n",
    "        print(\"我是水果%s\"%self.fruit)\n",
    "print(Fruit(\"apple\"))\n",
    "class Fruit(object):\n",
    "    def __init__(self,fruit):\n",
    "        self.fruit = fruit\n",
    "        print(\"我是水果%s\"%self.fruit)\n",
    "    def __str__(self):\n",
    "        return \"水果：%s\"%self.fruit\n",
    "print(Fruit(\"apple\"))"
   ]
  }
 ],
 "metadata": {
  "celltoolbar": "Tags",
  "kernelspec": {
   "display_name": "Python 3.8.8 ('base')",
   "language": "python",
   "name": "python3"
  },
  "language_info": {
   "codemirror_mode": {
    "name": "ipython",
    "version": 3
   },
   "file_extension": ".py",
   "mimetype": "text/x-python",
   "name": "python",
   "nbconvert_exporter": "python",
   "pygments_lexer": "ipython3",
   "version": "3.8.8"
  },
  "vscode": {
   "interpreter": {
    "hash": "3d894767a748ae32987cbebeaec93efb51fe7a630f5d0166a60f00b04d640165"
   }
  }
 },
 "nbformat": 4,
 "nbformat_minor": 2
}
