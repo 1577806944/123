{
 "cells": [
  {
   "cell_type": "code",
   "execution_count": 2,
   "metadata": {},
   "outputs": [
    {
     "name": "stdout",
     "output_type": "stream",
     "text": [
      "1 2 0 () {}\n",
      "1 2 3 () {}\n",
      "1 2 3 () {}\n",
      "1 2 0 () {'f': 3}\n",
      "1 2 3 (4, 5, 6) {}\n",
      "1 2 3 (4, 5, 6) {'name': 'Jay'}\n",
      "9 8 7 () {'python': 90, 'c++': 85}\n"
     ]
    }
   ],
   "source": [
    "def test(a,b,c=0,*d,**e):\n",
    "    print (a,b,c,d,e)\n",
    "test(1,2)\n",
    "test(1,2,3)\n",
    "test(1,2,c=3)\n",
    "test(1,2,f=3)\n",
    "test(1,2,3,4,5,6)\n",
    "test(1,2,3,4,5,6,name='Jay')\n",
    "d = [9,8,7]\n",
    "e = {'python':90,'c++':85}\n",
    "test(*d,**e)"
   ]
  },
  {
   "cell_type": "code",
   "execution_count": null,
   "metadata": {},
   "outputs": [],
   "source": []
  }
 ],
 "metadata": {
  "kernelspec": {
   "display_name": "Python 3.8.8 ('base')",
   "language": "python",
   "name": "python3"
  },
  "language_info": {
   "codemirror_mode": {
    "name": "ipython",
    "version": 3
   },
   "file_extension": ".py",
   "mimetype": "text/x-python",
   "name": "python",
   "nbconvert_exporter": "python",
   "pygments_lexer": "ipython3",
   "version": "3.8.8"
  },
  "vscode": {
   "interpreter": {
    "hash": "3d894767a748ae32987cbebeaec93efb51fe7a630f5d0166a60f00b04d640165"
   }
  }
 },
 "nbformat": 4,
 "nbformat_minor": 2
}
