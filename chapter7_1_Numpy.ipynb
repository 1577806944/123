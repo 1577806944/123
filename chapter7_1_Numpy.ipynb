{
 "cells": [
  {
   "cell_type": "code",
   "execution_count": null,
   "metadata": {},
   "outputs": [],
   "source": [
    "#7.0 模块简介\n",
    "#模块是python的一个核心内容之一，如果需要使用某个功能，\n",
    "#可以在网上下载相应的模块，\n",
    "#然后在脚本内进行导入，导入语句使用import ,\n",
    "#有时为了简便调用，可以将导入的模块重新命名 as\n",
    "#例如:如何获得关键代码运行的时间？\n",
    "import time\n",
    "n_times = 1000000 \n",
    "t1 = time.process_time_ns()\n",
    "for i in range(n_times):\n",
    "    9876543210987654321098765432109876543210*18217383718472834717274391283791283791287319283712938712983\n",
    "t2 = time.process_time_ns()\n",
    "print((t2-t1)/n_times)"
   ]
  },
  {
   "cell_type": "code",
   "execution_count": null,
   "metadata": {},
   "outputs": [],
   "source": [
    "#7.1.1 基本概念\n",
    "#python原生支持的list面向数值计算存在一些不足，因此numpy库应运而生\n",
    "#例如上次课讲解的使用list模拟matrix，可以看出不支持多维运算\n",
    "\n",
    "import numpy as np\n"
   ]
  },
  {
   "cell_type": "code",
   "execution_count": null,
   "metadata": {},
   "outputs": [],
   "source": [
    "#7.1.2 ndarray（N-dimensional Array Object)\n",
    "#1.NumPy中的核心对象是ndarray\n",
    "#2.ndarray可以看成数组，存放同类元素\n",
    "#3.NumPy里面所有的函数都是围绕ndarray展开的\n",
    "#ndarray的属性\n",
    "#ndarray.ndim\t        秩，即轴的数量或维度的数量\n",
    "#ndarray.shape\t        数组的维度(n×m)，对于矩阵，n 行 m 列\n",
    "#ndarray.size\t        数组元素的总个数，相当于 .shape 中 n*m 的值\n",
    "#ndarray.dtype\tndarray 对象的元素类型\n",
    "#ndarray.itemsize\t    ndarray 对象中每个元素的大小，以字节为单位\n",
    "#ndarray.flags\t        ndarray 对象的内存信息\n",
    "#ndarray.real\t        ndarray元素的实部\n",
    "#ndarray.imag\t        ndarray元素的虚部\n",
    "#ndarray.data\t        包含实际数组元素的缓冲区，由于一般通过数组的索引获取元素，所以通常不需要使用这个属性。"
   ]
  },
  {
   "cell_type": "code",
   "execution_count": null,
   "metadata": {},
   "outputs": [],
   "source": [
    "#7.2.1 从列表创建数组\n",
    "import numpy as np\n",
    "list_data = [1,2,3,4,5,6,7,8]\n",
    "nd_data = np.array(list_data)\n",
    "print(nd_data)\n",
    "print(nd_data.dtype)\n",
    "#numpy比python支持更多的数值的数据类型\n",
    "#nd_data = np.int16(nd_data)\n",
    "#问题1:此数据类型有什么区别？\n",
    "#问题2:列表里有多种数据类型的时候转换是否会有问题？\n",
    "#问题3:假如一个2*4的矩阵如何生成？"
   ]
  },
  {
   "cell_type": "code",
   "execution_count": null,
   "metadata": {},
   "outputs": [],
   "source": [
    "#7.2.2 利用random模块生成数组\n",
    "from random import seed\n",
    "print('-'*80)\n",
    "#1. np.random.random        生成0到1之间的随机数\n",
    "print(\"1:{0}\\n{1}\".format(np.random.random(size=(2,3)),'-'*80))\n",
    "#2. np.random.uniform       生成均匀分布的随机数\n",
    "print(\"2:{0}\\n{1}\".format(np.random.uniform(low=1.0,high=1.5,size=(1,10)),'-'*80))\n",
    "#3. np.random.randn         生成标准正态的随机数\n",
    "print(\"3:{0}\\n{1}\".format(np.random.randn(3,3),'-'*80))\n",
    "#4. np.random.randint       生成随机的整数\n",
    "print(\"4:{0}\\n{1}\".format(np.random.randint(low=1,high=10,size=(1,20)),'-'*80))\n",
    "#5. np.random.normal        生成正态分布\n",
    "print(\"5:{0}\\n{1}\".format(np.random.normal(loc=0,scale=1.0,size=(3,2)),'-'*80))\n",
    "#6. np.random.shuffle       随机打乱顺序\n",
    "arr = np.arange(10)\n",
    "print(\"arr:%ls\"%arr)\n",
    "np.random.shuffle(arr)\n",
    "print(\"6:{0}\\n{1}\".format(arr,'-'*80))\n",
    "#7. random_sample           生成随机的浮点数\n",
    "print(\"7:{0}\\n{1}\".format(np.random.random_sample(size=(2,3)),'-'*80))\n",
    "#如果想每次运行生成的数据一样，则可以把随机种子进行设置\n",
    "np.random.seed(10)\n",
    "for i in range(10):\n",
    "    a = np.random.randint(0,8,4)\n",
    "    print(\"{0}:{1}\".format(i+1,a))"
   ]
  },
  {
   "cell_type": "code",
   "execution_count": null,
   "metadata": {},
   "outputs": [],
   "source": [
    "#7.2.3 创建特定形状的数组\n",
    "ndarr=np.array([[2,3],[3,2],[1,3]])\n",
    "np.zeros((3,4))#创建了3x4的元素全为0的数组\n",
    "np.ones((3,4))#创建了3×4的元素全为1的数组\n",
    "np.empty((2,3))#创建2×3的空数组，空数据中的值并不为0，而是未初始化的垃圾值（没有任何意义的值,可以先打印该数组，再+1后打印结果）\n",
    "np.zeros_like(ndarr)#以ndarr相同维度创建元素全为0数组\n",
    "np.ones_like(ndarr)#以ndarr相同维度创建元素全为1数组\n",
    "np.empty_like(ndarr)#以ndarr相同维度创建空数组\n",
    "np.eye(5)#该函数用于创建一个5x5的短阵．对角线为1，其余为0\n",
    "np.full((3,5), 666)#创建了3x5的元素全为666的数组，666为指定值\n",
    "#同学们可以尝试打印出每个结果\n"
   ]
  },
  {
   "cell_type": "code",
   "execution_count": null,
   "metadata": {},
   "outputs": [],
   "source": [
    "#7.2.4 索引\n",
    "#1. 基本索引和切片索引与列表一致,但是可以用矩阵的方式索引\n",
    "a = np.array([[1, 2, 3, 4], [5, 6, 7, 8]])\n",
    "#例1：\n",
    "print(a[1])\n",
    "#例2:\n",
    "print(a[:,1])\n",
    "#2. 可以通过布尔运算进行索引\n",
    "x = np.array([[ 0.0, 0.1, 0.2],[ 1.0, 1.1, 1.2],[ 2.0, 2.1, 2.2]])\n",
    "print(x)\n",
    "print(x > 1.1)\n",
    "b = x>1.1\n",
    "print(x[b])\n",
    "#3. numpy中提供了where函数来查找满足条件元素的索引\n",
    "#第一个参数是条件，第二个参数为满足条件的元素，第三个参数为不满足条件的元素\n",
    "print(np.where(x>1.1,x,-x))\n",
    "#4. 删除元素\n",
    "# np.delete(arr, obj, axis=None)\n",
    "# 第一个参数：要处理的矩阵，\n",
    "# 第二个参数，处理的位置，下标\n",
    "# 第三个参数，0表示按照行删除，1表示按照列删除，默认为0\n",
    "# 返回值为删除后的剩余元素构成的矩阵\n",
    "#例3：删除第1列\n",
    "print(np.delete(x,[0],axis=1))"
   ]
  },
  {
   "cell_type": "code",
   "execution_count": null,
   "metadata": {},
   "outputs": [],
   "source": [
    "#7.3 拼接与分割\n",
    "#1. 拼接仅介绍1种方法concatenate，append&stack方法可参考numpy文档\n",
    "m1 = np.array([[1,2],[2,3]])\n",
    "m2 = np.array([[5,6]])\n",
    "m12_row = np.concatenate((m1,m2),axis=0)\n",
    "print(m12_row)\n",
    "m12_col = np.concatenate((m1,m2.T),axis=1)\n",
    "print(m12_col)\n",
    "print('-'*40)\n",
    "#2. 分割 split，返回ndarray列表\n",
    "print(\"原始数据：\\n{0}\".format(x))\n",
    "print(\"按行分：\\n{0}\".format(np.split(x,3,axis=0)))\n",
    "print(\"按列分：\\n{0}\".format(np.split(x,3,axis=1)))\n"
   ]
  },
  {
   "cell_type": "code",
   "execution_count": null,
   "metadata": {},
   "outputs": [],
   "source": [
    "#7.4 维度变换\n",
    "#1. reshape不改变原数组元素，返回一个新的shape维度的数组(维度变换)\n",
    "x = np.arange(12).reshape(3, 4)\n",
    "# out : array([[ 0,  1,  2,  3], [ 4,  5,  6,  7], [ 8,  9, 10, 11]])\n",
    "# 指定维度时可以只指定行数或列数, 其他用 -1 代替\n",
    "x.reshape(3, -1) \n",
    "# out : array([[ 0,  1,  2,  3], [ 4,  5,  6,  7], [ 8,  9, 10, 11]])\n",
    "#2. resize改变向量的维度(修改向量本身)：\n",
    "arr =np.arange(10) \n",
    "print(arr) \n",
    "# out : [0 1 2 3 4 5 6 7 8 9]\n",
    "\n",
    "arr.resize(2, 5) # 将向量 arr 维度变换为2行5列 \n",
    "print(arr) \n",
    "# out : [[0 1 2 3 4], [5 6 7 8 9]]\n",
    "#3. T转置\n",
    "arr = np.arange(8).reshape(2, 4)\n",
    "arr.shape \n",
    "# out : (2, 4)\n",
    "arr.T.shape \n",
    "# out : (4, 2)\n",
    "#4. ravel向量展平\n",
    "arr = np.arange(8).reshape(2, 4)\n",
    "arr.ravel()\n",
    "# out : array([0, 1, 2, 3, 4, 5, 6, 7])\n",
    "#5. flatten  把矩阵转换为向量，这种需求经常出现在卷积网络与全连接层之间。\n",
    "arr = np.arange(8).reshape(2, 4)\n",
    "arr.flatten() \n",
    "# out : array([0, 1, 2, 3, 4, 5, 6, 7])\n",
    "#6. squeeze  这是一个主要用来降维的函数，把矩阵中含1的维度去掉\n",
    "arr = np.arange(8).reshape(2, 4, 1)\n",
    "arr.shape \n",
    "# out : (2, 4, 1)\n",
    "arr.squeeze().shape # out : (2, 4)\n",
    "#7. transpose对高维矩阵进行轴对换，这个在深度学习中经常使用，比如把图片中表示颜色顺序的RGB改为GBR。\n",
    "arr = np.arange(36).reshape(2, 3, 6)\n",
    "print(arr.shape )\n",
    "# out : (2, 6, 1)\n",
    "arr.transpose(1, 2, 0).shape # out : (6, 1, 2)\n"
   ]
  },
  {
   "cell_type": "code",
   "execution_count": null,
   "metadata": {},
   "outputs": [],
   "source": [
    "import numpy as np\n",
    "empt = np.empty([3,2],dtype=int)\n",
    "print(empt)\n",
    "z = np.zeros([3,2],dtype = float,order='C')\n",
    "print(z)\n",
    "o = np.ones([3,3])\n",
    "print(o)\n",
    "a =  np.arange(10, dtype =  float)  \n",
    "print (a)"
   ]
  },
  {
   "cell_type": "code",
   "execution_count": null,
   "metadata": {},
   "outputs": [],
   "source": [
    "a = np.array([0,30,45,60,90])\n",
    "print ('不同角度的正弦值：')\n",
    "# 通过乘 pi/180 转化为弧度  \n",
    "print (np.sin(a*np.pi/180))\n",
    "print ('数组中角度的余弦值：')\n",
    "print (np.cos(a*np.pi/180))\n",
    "print ('数组中角度的正切值：')\n",
    "print (np.tan(a*np.pi/180))\n",
    "a = np.array([1.0,5.55,  123,  0.567,  25.532])  \n",
    "print  ('原数组：')\n",
    "print (a)\n",
    "print ('舍入后：')\n",
    "print (np.around(a))\n",
    "print (np.around(a, decimals =  1))\n",
    "print (np.around(a, decimals =  -1))"
   ]
  },
  {
   "cell_type": "code",
   "execution_count": null,
   "metadata": {},
   "outputs": [],
   "source": [
    "a = np.array([[3,7,5],[8,4,3],[2,4,9]])  \n",
    "print ('我们的数组是：')\n",
    "print (a)\n",
    "print ('\\n')\n",
    "print ('axe1轴调用 amin() 函数：')\n",
    "print (np.amin(a,1))\n",
    "print ('\\n')\n",
    "print ('axe0轴调用 amin() 函数：')\n",
    "print (np.amin(a,0))\n",
    "print ('\\n')\n",
    "print ('调用 amax() 函数：')\n",
    "print (np.amax(a))\n",
    "print ('\\n')\n",
    "print ('再次调用 amax() 函数：')\n",
    "print (np.amax(a, axis =  0))"
   ]
  },
  {
   "cell_type": "code",
   "execution_count": null,
   "metadata": {},
   "outputs": [],
   "source": [
    "#matlib库*\n",
    "import numpy.matlib \n",
    "print (np.matlib.empty((2,2)))\n",
    "print (np.matlib.zeros((2,2)))\n",
    "print (np.matlib.eye(n =  3, M =  4, k =  0, dtype =  float))"
   ]
  },
  {
   "cell_type": "code",
   "execution_count": null,
   "metadata": {},
   "outputs": [],
   "source": [
    "chr(65)"
   ]
  }
 ],
 "metadata": {
  "kernelspec": {
   "display_name": "Python 3.10.6 ('sklearn-env')",
   "language": "python",
   "name": "python3"
  },
  "language_info": {
   "codemirror_mode": {
    "name": "ipython",
    "version": 3
   },
   "file_extension": ".py",
   "mimetype": "text/x-python",
   "name": "python",
   "nbconvert_exporter": "python",
   "pygments_lexer": "ipython3",
   "version": "3.10.6"
  },
  "vscode": {
   "interpreter": {
    "hash": "6d383d3a0a13a0bee9f7dd6d69cb74b8fdfd53af80046b31138d5ad498ebeae5"
   }
  }
 },
 "nbformat": 4,
 "nbformat_minor": 2
}
