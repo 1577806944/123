{
 "cells": [
  {
   "cell_type": "code",
   "execution_count": null,
   "metadata": {},
   "outputs": [],
   "source": [
    "#1. 元组的生成与初始化\n",
    "print('1.空元组\\t\\t:',())\n",
    "T = (0,)\n",
    "#问为什么要有个,?\n",
    "print('2.一个元素的元组\\t:',T)\n",
    "#T = (0,'Ni',1.2,3)\n",
    "#不需要()可不可以？\n",
    "T = 0,'Ni',1.2,3\n",
    "print('3.四个元素的元组\\t:',T)\n",
    "T = ('Bob', ('dev', 'mgr'))\n",
    "print('4.嵌套元组\\t\\t:',T)\n",
    "#将list转换成元组\n",
    "T = tuple([1,3,4,5,6])\n",
    "#将string转换成元组\n",
    "T = tuple([\"spam\"])\n",
    "print('5.使用tuple构造函数\\t:',T)"
   ]
  },
  {
   "cell_type": "code",
   "execution_count": null,
   "metadata": {},
   "outputs": [],
   "source": [
    "#2. 元组检索方式\n",
    "T=tuple(range(1,10))\n",
    "print('index\\t:',list(range(9)))\n",
    "print('T\\t:',T)\n",
    "print(\"1.直接检索\\t\\t:\",T[1])\n",
    "print(\"2.片段检索\\t\\t:\",T[3:7])\n",
    "T = (1,2,(1,2,3,4))\n",
    "print('T\\t:',T)\n",
    "print(\"3.检索的检索\\t\\t:\",T[2][1])\n",
    "#迭代检索\n",
    "print('4.通过for对T中每一个元素进行检索:')\n",
    "for x in T : print(x)"
   ]
  },
  {
   "cell_type": "code",
   "execution_count": null,
   "metadata": {},
   "outputs": [],
   "source": [
    "#3. 元组的长度\n",
    "print('T\\t:',T)\n",
    "print('1. T的长度为\\t:',len(T))\n",
    "#元组的接连\n",
    "T1 = tuple(range(1,10))\n",
    "T2 = (1,2,(1,2,3,4,5))\n",
    "print('T1\\t:',T1)\n",
    "print('T2\\t:',T2)\n",
    "print(\"2. T1与T2通过+进行连接\\t:\",T1+T2)\n",
    "#元组的重复\n",
    "print('3. T2通过*n进行n次重复\\t:',T2*3)"
   ]
  },
  {
   "cell_type": "code",
   "execution_count": null,
   "metadata": {},
   "outputs": [],
   "source": [
    "#4. 更改元组的元素\n",
    "#T[1] = 3\n",
    "#print(T)\n",
    "#T = (1,3,(3,4,5))\n",
    "#print(T)\n",
    "#假设有个元组为('cc','aa','dd','bb')\n",
    "#T = ('cc','aa','dd','bb')\n",
    "#T = T.sort()\n",
    "#如何使得T中的元素有序，即('aa','bb','cc',''dd)?\n",
    "#有没有像List一样的sort()方法？\n",
    "#-------------------------------------------------\n",
    "#定位某个元素的位置\n",
    "print(\"2. 显示元素2在元组T中的位置\\t\\t:\",T2.index(2))#只能在第一层定位\n",
    "#计数元组中某个元素的数量\n",
    "print(\"3. T2中为2的元素的个数(返回第一层)\\t:\",T2.count(2))"
   ]
  },
  {
   "cell_type": "code",
   "execution_count": 5,
   "metadata": {},
   "outputs": [
    {
     "name": "stdout",
     "output_type": "stream",
     "text": [
      "0\n"
     ]
    }
   ],
   "source": [
    "type(('s'))\n",
    "print(20%2)"
   ]
  }
 ],
 "metadata": {
  "kernelspec": {
   "display_name": "Python 3.8.8 ('base')",
   "language": "python",
   "name": "python3"
  },
  "language_info": {
   "codemirror_mode": {
    "name": "ipython",
    "version": 3
   },
   "file_extension": ".py",
   "mimetype": "text/x-python",
   "name": "python",
   "nbconvert_exporter": "python",
   "pygments_lexer": "ipython3",
   "version": "3.9.12"
  },
  "vscode": {
   "interpreter": {
    "hash": "3d894767a748ae32987cbebeaec93efb51fe7a630f5d0166a60f00b04d640165"
   }
  }
 },
 "nbformat": 4,
 "nbformat_minor": 2
}
