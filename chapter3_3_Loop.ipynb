{
 "cells": [
  {
   "cell_type": "markdown",
   "metadata": {
    "tags": [
     "1.while"
    ]
   },
   "source": [
    "while 的一般格式\n",
    "while test:\n",
    "    statements\n",
    "else:\n",
    "    statements\n",
    "1.与C/C++语言一样的是都以测试条件开始\n",
    "2.不一样的是多了else，即在循环内没有碰到break退出的话进行处理\n",
    "i = 1\n",
    "while(i < 10):\n",
    "    i+=1\n",
    "    print(i)\n",
    "\n",
    "continue,break,pass,else\n",
    "continue ：表示继续执行循环，循环内接下来的操作不执行\n",
    "pass    ：表示不做任何事，只是一个占位符\n",
    "break   ：表示跳出该循环，不再继续执行循环内之后的操作，\n",
    "else    ：表示当该循环没有被break的时候执行，如果被break了则不执行"
   ]
  },
  {
   "cell_type": "code",
   "execution_count": null,
   "metadata": {
    "tags": [
     "while：例1"
    ]
   },
   "outputs": [],
   "source": [
    "#例1:while-continue\n",
    "#打印出100以内的所有奇数\n",
    "i=0\n",
    "while(i < 100):\n",
    "    i+=1\n",
    "    if(i%2==0):\n",
    "        continue\n",
    "        #pass\n",
    "    print(i)\n",
    "    \n",
    "#问题1：请问continue与pass有什么区别？"
   ]
  },
  {
   "cell_type": "code",
   "execution_count": null,
   "metadata": {
    "scrolled": true,
    "tags": [
     "while例2"
    ]
   },
   "outputs": [],
   "source": [
    "#while-continue，break;\n",
    "#例2:在列表中找到全部指定的数字并打印序号，\n",
    "\n",
    "data=[9,8,1,6,2,1,8,9,3,7,13,5,7,7,9,13,7]\n",
    "num = 7\n",
    "#使用while-continue,break写法\n",
    "\n",
    "index = -1#记录位置\n",
    "while(True):\n",
    "    index += 1\n",
    "    if(data[index] == num):\n",
    "        print(index)\n",
    "    else:\n",
    "        data[index]=0\n",
    "print(data)\n",
    "#修改上述程序错误\n",
    "#另一种写法\n",
    "\"\"\"\n",
    "index_rec=0\n",
    "while(True):\n",
    "    index_rec = data.index(num,index_rec)\n",
    "    print(index_rec)\n",
    "    index_rec+=1\n",
    "    if(index_rec>=len(data)):\n",
    "        break\n",
    "\"\"\" "
   ]
  },
  {
   "cell_type": "code",
   "execution_count": null,
   "metadata": {
    "tags": [
     "while-else",
     "例3"
    ]
   },
   "outputs": [],
   "source": [
    "#while-else\n",
    "#例3给定y，1.判定其是否为素数（质数），2.给出所有y的因数\n",
    "y = 10000\n",
    "x = y//2\n",
    "while x > 1:\n",
    "    if y % x == 0: \n",
    "        print(y, 'has factor', x)\n",
    "        #break \n",
    "        #if(x == 2):\n",
    "        #    break\n",
    "    x -= 1\n",
    "else:\n",
    "    print(y, 'is prime')"
   ]
  },
  {
   "cell_type": "markdown",
   "metadata": {},
   "source": [
    "for 循环一般格式\n",
    "for <target> in <object>:\n",
    "    <statements>\n",
    "else:\n",
    "    <statements>\n",
    "1.判定条件描述是在object对象集合中遍历每个target\n",
    "2.选用的else具备和while循环的else一样的功能\n"
   ]
  },
  {
   "cell_type": "code",
   "execution_count": null,
   "metadata": {},
   "outputs": [],
   "source": [
    "#例1：打印商品列表\n",
    "for x in ['spam','eggs','ham']:\n",
    "    print(x)\n",
    "else:\n",
    "    print('OK!!!')"
   ]
  },
  {
   "cell_type": "code",
   "execution_count": null,
   "metadata": {},
   "outputs": [],
   "source": [
    "#例2.1 list的list遍历\n",
    "\n",
    "L=[[1,2],[2,3],[3,4]]\n",
    "for [a,b]in L:\n",
    "    print(a,b+1)\n",
    "'''\n",
    "例2.2 遍历元祖\n",
    "'''\n",
    "T=((1,2),(2,3),(3,4))\n",
    "for (a,b)in T:\n",
    "    print(a,len(T)+a)"
   ]
  },
  {
   "cell_type": "code",
   "execution_count": null,
   "metadata": {
    "slideshow": {
     "slide_type": "notes"
    }
   },
   "outputs": [],
   "source": [
    "#例3.1 将嵌套列表展开（平坦化）嵌套for循环\n",
    "L = [[1,2,3],[4,5],[6],[7,8,9,10]]\n",
    "L_flat=[]\n",
    "for i in L:\n",
    "    for j in i:\n",
    "        L_flat.append(j)\n",
    "print(L_flat)\n",
    "#问题1：如果L=[[1,2,3],[4,5],6,[7,8,9,10]]上述代码是否能够运行？\n",
    "#如果不能运行将如何修改？\n",
    "L=[[1,2,3],[4,5],6,[7,8,9,10]]\n",
    "L_flat=[]\n",
    "for i in L:\n",
    "    if(isinstance(i,list)):\n",
    "        for j in i:\n",
    "            L_flat.append(j)\n",
    "    else:\n",
    "        L_flat.append(i)\n",
    "print(L_flat)\n"
   ]
  },
  {
   "cell_type": "code",
   "execution_count": null,
   "metadata": {
    "slideshow": {
     "slide_type": "notes"
    }
   },
   "outputs": [],
   "source": [
    "#例3.2 找出100以内的所有素数\n",
    "prime_number = []\n",
    "for i in range(1,101):\n",
    "    j = i // 2;\n",
    "    while(j >1):\n",
    "        if(i % j == 0):\n",
    "            break\n",
    "        j -= 1\n",
    "    else:\n",
    "        print(i,\"is prime\")"
   ]
  },
  {
   "cell_type": "code",
   "execution_count": null,
   "metadata": {},
   "outputs": [],
   "source": [
    "#例3.3 冒泡排序实现\n",
    "collection = [91,20,22,31,2,5,0,88,78]\n",
    "print(collection)\n",
    "'''\n",
    "length = len(collection)\n",
    "for i in range(length - 1):\n",
    "    swapped = False\n",
    "    for j in range(length - 1 - i):\n",
    "        if collection[j] > collection[j + 1]:\n",
    "            swapped = True\n",
    "            collection[j], collection[j + 1] = collection[j + 1], collection[j]\n",
    "            if not swapped:\n",
    "                break  # Stop iteration if the collection is sorted.\n",
    "'''\n",
    "#collection.sort()\n",
    "print(collection)"
   ]
  },
  {
   "cell_type": "code",
   "execution_count": null,
   "metadata": {},
   "outputs": [],
   "source": []
  }
 ],
 "metadata": {
  "kernelspec": {
   "display_name": "Python 3.7.9 ('base')",
   "language": "python",
   "name": "python3"
  },
  "language_info": {
   "codemirror_mode": {
    "name": "ipython",
    "version": 3
   },
   "file_extension": ".py",
   "mimetype": "text/x-python",
   "name": "python",
   "nbconvert_exporter": "python",
   "pygments_lexer": "ipython3",
   "version": "3.7.9"
  },
  "vscode": {
   "interpreter": {
    "hash": "91f6a04488c6f6c893277af113acfe6c1e243656720881e8cb90c9c6953cd34f"
   }
  }
 },
 "nbformat": 4,
 "nbformat_minor": 2
}
