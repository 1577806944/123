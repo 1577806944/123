{
 "cells": [
  {
   "cell_type": "code",
   "execution_count": null,
   "metadata": {},
   "outputs": [],
   "source": [
    "#演示1:绘制圆形\n",
    "from turtle import *\n",
    "print(getscreen())\n",
    "print(position())\n",
    "color('red', 'yellow')\n",
    "begin_fill()\n",
    "while True:\n",
    "    forward(300)\n",
    "    right(290)\n",
    "    #left(20)\n",
    "    if abs(pos()) < 1:\n",
    "        break\n",
    "end_fill()\n",
    "done()"
   ]
  },
  {
   "cell_type": "code",
   "execution_count": null,
   "metadata": {},
   "outputs": [],
   "source": [
    "#演示2：打印输出\n",
    "print(\"this \"+\"is a output: \"+\"Hello world!!!\")"
   ]
  },
  {
   "cell_type": "code",
   "execution_count": null,
   "metadata": {},
   "outputs": [],
   "source": [
    "#演示3: 计算耗时\n",
    "import time\n",
    "#递归函数\n",
    "def fun(num):\n",
    "    #print(num)\n",
    "    num=num-1    \n",
    "    if(num > 0):\n",
    "        fun(num)\n",
    "A_1 = 0;\n",
    "A_2 = 0;\n",
    "#计算1000次递归结果，输出平均时间\n",
    "for i in range(1000):\n",
    "    t1=time.process_time()\n",
    "    fun(2000)\n",
    "    t2=time.process_time()\n",
    "    A_1 += t2-t1\n",
    "\n",
    "for i in range(1000):\n",
    "    num = 2000\n",
    "    t1 = time.process_time()\n",
    "    for i in range(2000):\n",
    "        num-=1\n",
    "    t2 = time.process_time()\n",
    "    A_2 += t2-t1\n",
    "print(A_1/1000)\n",
    "print(A_2/1000)\n",
    "print(A_1/A_2)"
   ]
  },
  {
   "cell_type": "code",
   "execution_count": null,
   "metadata": {},
   "outputs": [],
   "source": [
    "#演示4：数组求和\n",
    "def mysum(L):\n",
    "    if not L:\n",
    "        print(L)\n",
    "        return 0\n",
    "    else:\n",
    "        return L[0] + mysum(L[1:])\n",
    "mysum([1,2,3,4,5,6,7,8,9,10])"
   ]
  },
  {
   "cell_type": "code",
   "execution_count": null,
   "metadata": {},
   "outputs": [],
   "source": [
    "88888888888888888888888888*9999999999999999999999"
   ]
  }
 ],
 "metadata": {
  "kernelspec": {
   "display_name": "Python 3.8.8 ('base')",
   "language": "python",
   "name": "python3"
  },
  "language_info": {
   "codemirror_mode": {
    "name": "ipython",
    "version": 3
   },
   "file_extension": ".py",
   "mimetype": "text/x-python",
   "name": "python",
   "nbconvert_exporter": "python",
   "pygments_lexer": "ipython3",
   "version": "3.8.8"
  },
  "vscode": {
   "interpreter": {
    "hash": "3d894767a748ae32987cbebeaec93efb51fe7a630f5d0166a60f00b04d640165"
   }
  }
 },
 "nbformat": 4,
 "nbformat_minor": 2
}
