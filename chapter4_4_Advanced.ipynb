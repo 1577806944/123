{
 "cells": [
  {
   "cell_type": "code",
   "execution_count": null,
   "metadata": {},
   "outputs": [],
   "source": [
    "# 1. 函数的引用\n",
    "def echo(message): \n",
    "    print(message)\n",
    "echo(\"Direct Call\")\n",
    "x=echo\n",
    "x(\"Indirect Call\")"
   ]
  },
  {
   "cell_type": "code",
   "execution_count": null,
   "metadata": {},
   "outputs": [],
   "source": [
    "#2. 函数作为参数传递（回调）\n",
    "def indirectFun(func,arg):\n",
    "    func(arg)\n",
    "indirectFun(echo,\"Argument Call\")"
   ]
  },
  {
   "cell_type": "code",
   "execution_count": null,
   "metadata": {},
   "outputs": [],
   "source": [
    "#3.将函数和参数嵌入元组列表中\n",
    "schedule = [ (echo, 'Spam!'), (echo, 'Ham!') ]\n",
    "for (func, arg) in schedule:\n",
    "    func(arg)"
   ]
  },
  {
   "cell_type": "code",
   "execution_count": null,
   "metadata": {},
   "outputs": [],
   "source": [
    "#4.函数闭包——嵌套函数的高级使用方式\n",
    "def make(label):\n",
    "    def echo(message):\n",
    "        print(label + ':' + message)\n",
    "    return echo\n",
    "F = make('Spam')\n",
    "F('Ham!')\n",
    "F(\"Eggs!\")"
   ]
  },
  {
   "cell_type": "code",
   "execution_count": null,
   "metadata": {},
   "outputs": [],
   "source": [
    "#5.1 lambda基础\n",
    "def func(x, y, z): return x + y + z\n",
    "print(func(1,2,3))\n",
    "f = lambda x,y,z:x+y+z\n",
    "print(f(1,2,3))"
   ]
  },
  {
   "cell_type": "code",
   "execution_count": null,
   "metadata": {},
   "outputs": [],
   "source": [
    "#5.2 lambda 携带参数\n",
    "x = (lambda a=\"fee\", b=\"fie\", c=\"foe\": a + b + c)\n",
    "print(x(1,2,3))\n",
    "print(x('wee'))"
   ]
  },
  {
   "cell_type": "code",
   "execution_count": null,
   "metadata": {},
   "outputs": [],
   "source": [
    "#5.3 lambda例子\n",
    "def knights():\n",
    "    title = 'Sir'\n",
    "    action = (lambda x: title + ' ' + x)#title在封闭的函数体内\n",
    "    return action#返回函数\n",
    "act = knights()\n",
    "msg = act('robin')\n",
    "print(msg)\n",
    "print(act)"
   ]
  },
  {
   "cell_type": "code",
   "execution_count": null,
   "metadata": {},
   "outputs": [],
   "source": [
    "#5.4 why use lambda\n",
    "#use lambda\n",
    "L = [lambda x: x ** 2, #内联函数定义\n",
    "     lambda x: x ** 3,\n",
    "     lambda x: x ** 4] #3个能被调用的函数列表\n",
    "for f in L:\n",
    "    print(f(2))\n",
    "print(L[0](2))\n",
    "#use def\n",
    "def f1(x): return x ** 2\n",
    "def f2(x): return x ** 3 # 定义3个函数\n",
    "def f3(x): return x ** 4\n",
    "L = [f1, f2, f3] # 构成列表\n",
    "for f in L:\n",
    "    print(f(2)) \n",
    "print(L[0](3))"
   ]
  },
  {
   "cell_type": "code",
   "execution_count": null,
   "metadata": {},
   "outputs": [],
   "source": [
    "#5.5使用lambda实现多路分支结构\n",
    "#using\n",
    "key = 'got'\n",
    "{'already': (lambda: 2 + 2),\n",
    " 'got': (lambda: 2 * 4),\n",
    " 'one': (lambda: 2 ** 6)}[key]()"
   ]
  },
  {
   "cell_type": "code",
   "execution_count": null,
   "metadata": {},
   "outputs": [],
   "source": [
    "#5.5 编写函数 \n",
    "f={'already': (lambda: 2 + 2),\n",
    " 'got': (lambda: 2 * 4),\n",
    " 'one': (lambda: 2 ** 6)}\n",
    "f['got']()"
   ]
  },
  {
   "cell_type": "code",
   "execution_count": null,
   "metadata": {},
   "outputs": [],
   "source": [
    "#5.5 lambda分支例子\n",
    "L = [1,(1),1.0,[1],{1}]\n",
    "f = {set:(lambda x:(1)),\n",
    "     int:(lambda x:x+2),\n",
    "     list:(lambda x:x.append(1)),\n",
    "     float:(lambda x:x/2),\n",
    "     tuple:(lambda x:{2:2})}\n",
    "for i in L:\n",
    "    print(type(i),f[type(i)](i))\n",
    "print(L)"
   ]
  }
 ],
 "metadata": {
  "kernelspec": {
   "display_name": "Python 3.8.2 64-bit",
   "language": "python",
   "name": "python3"
  },
  "language_info": {
   "codemirror_mode": {
    "name": "ipython",
    "version": 3
   },
   "file_extension": ".py",
   "mimetype": "text/x-python",
   "name": "python",
   "nbconvert_exporter": "python",
   "pygments_lexer": "ipython3",
   "version": "3.8.2"
  },
  "vscode": {
   "interpreter": {
    "hash": "31f2aee4e71d21fbe5cf8b01ff0e069b9275f58929596ceb00d14d90e3e16cd6"
   }
  }
 },
 "nbformat": 4,
 "nbformat_minor": 2
}
