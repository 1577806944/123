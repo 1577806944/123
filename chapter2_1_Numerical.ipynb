{
 "cells": [
  {
   "cell_type": "markdown",
   "metadata": {},
   "source": [
    "数值类型：\n",
    "0. 空(None)\n",
    "1.1.整型(int)\n",
    "    此类对象表示任意大小的数字，仅受限于可用的内存 (包括虚拟内存)。在变换和掩码运算中会以二进制表示，负数会以 2 的补码表示，看起来像是符号位向左延伸补满空位。\n",
    "1.2.布尔型(Bool)\n",
    "    此类对象表示逻辑值 False 和 True。代表 False 和 True 值的两个对象是唯二的布尔对象。布尔类型是整型的子类型，两个布尔值在各种场合的行为分别类似于数值 0 和 1，例外情况只有在转换为字符串时分别返回字符串 \"False\" 或 \"True\"。\n",
    "2.浮点型(float))\n",
    "    此类对象表示机器级的双精度浮点数。其所接受的取值范围和溢出处理将受制于底层的机器架构 (以及 C 或 Java 实现)。Python 不支持单精度浮点数；支持后者通常的理由是节省处理器和内存消耗，但这点节省相对于在 Python 中使用对象的开销来说太过微不足道，因此没有理由包含两种浮点数而令该语言变得复杂。\n",
    "3.复数类型 (complex)\n",
    "    此类对象以一对机器级的双精度浮点数来表示复数值。有关浮点数的附带规则对其同样有效。一个复数值 z 的实部和虚部可通过只读属性 z.real 和 z.imag 来获取\n",
    "4.集合(set)\n",
    "    此类对象表示由不重复且不可变对象组成的无序且有限的集合。因此它们不能通过下标来索引。但是它们可被迭代，也可用内置函数 len() 返回集合中的条目数。集合常见的用处是快速成员检测，去除序列中的重复项，以及进行交、并、差和对称差等数学运算。对于集合元素所采用的不可变规则与字典的键相同。注意数字类型遵循正常的数字比较规则: 如果两个数字相等 (例如 1 和 1.0)，则同一集合中只能包含其中一个。\n"
   ]
  },
  {
   "cell_type": "code",
   "execution_count": 1,
   "metadata": {
    "scrolled": true
   },
   "outputs": [
    {
     "name": "stdout",
     "output_type": "stream",
     "text": [
      "oct(a) =  0o12\n",
      "hex(a) =  0xa\n",
      "bin(a) =  0b1010\n",
      "-------------------------\n",
      "b/a =  2.0\n",
      "a/b =  0.5\n",
      "int(b/a) =  2\n",
      "int(a/b) =  0\n",
      "-------------------------\n"
     ]
    }
   ],
   "source": [
    "#1.整型\n",
    "a=10\n",
    "oct(a)#八进制\n",
    "print(\"oct(a) = \",oct(a))\n",
    "hex(a)#十六进制\n",
    "print(\"hex(a) = \",hex(a))\n",
    "bin(a)#二进制\n",
    "print(\"bin(a) = \",bin(a))\n",
    "print(\"-\"*25)\n",
    "#整数的操作\n",
    "b=20\n",
    "#+,-,*,/,……\n",
    "#问题：\n",
    "print(\"b/a = \",b/a)\n",
    "print(\"a/b = \",a/b)\n",
    "#a/b\n",
    "print(\"int(b/a) = \",int(b/a))\n",
    "print(\"int(a/b) = \",int(a/b))\n",
    "#问题：\n",
    "#print(hex(255)) #输出多少？\n",
    "#print(hex(0xff)+'students') #可否执行？可执行结果是多少？\n",
    "print('-'*25)\n",
    "#int(True) #可否执行？结果是多少？\n",
    "#print(True+4) #可否执行？结果是多少？\n",
    "#问题：是否可以执行int(None)？\n",
    "#print(int(None))"
   ]
  },
  {
   "cell_type": "code",
   "execution_count": 3,
   "metadata": {},
   "outputs": [
    {
     "data": {
      "text/plain": [
       "inf"
      ]
     },
     "execution_count": 3,
     "metadata": {},
     "output_type": "execute_result"
    }
   ],
   "source": [
    "#2.浮点数\n",
    "#赋值方式\n",
    "a=1.23\n",
    "b=3.\n",
    "c=3.14e-10\n",
    "C=3.14E-10\n",
    "d=4.0e+21000000000000000000000000\n",
    "d/c\n",
    "#问题：下列计算可否被执行？\n",
    "#x = 99999999999999999999999999999999*999999999999999999999999999999999\n",
    "#print(x)"
   ]
  },
  {
   "cell_type": "code",
   "execution_count": 4,
   "metadata": {},
   "outputs": [
    {
     "name": "stdout",
     "output_type": "stream",
     "text": [
      "a+c =  (4.2+7j)\n",
      "(-8.700488764073913e-05-3.5399793334365884e-05j)\n"
     ]
    }
   ],
   "source": [
    "#3.复数类型\n",
    "#使用j来直接定义虚部\n",
    "a=3+4j\n",
    "b=10j\n",
    "#复数计算\n",
    "c=1.2+3.0j\n",
    "print(\"a+c = \",a+c)\n",
    "#问题：下列计算可以被执行吗？？\n",
    "#a**b\n",
    "print(a**b)"
   ]
  },
  {
   "cell_type": "code",
   "execution_count": 5,
   "metadata": {},
   "outputs": [
    {
     "name": "stdout",
     "output_type": "stream",
     "text": [
      "{1, 2, 3, 4}\n",
      "{1, 2, 3, 4, 5, 6, 7}\n",
      "{1, 2, 3, 4, 5, 6, 7}\n",
      "{1, 2, 3, 4}\n",
      "{5, 6, 7}\n"
     ]
    }
   ],
   "source": [
    "#4.集合类型\n",
    "a={1,2,3,4,1,2,3,1,2,1,1}\n",
    "b={1,2,3,4,5,6,7,}\n",
    "#打印a,b的结果\n",
    "print(\"{0}{1}{2}\".format(a,\"\\n\",b))\n",
    "print(set.union(a,b))\n",
    "print(set.intersection(a,b))\n",
    "print(b^a)"
   ]
  }
 ],
 "metadata": {
  "kernelspec": {
   "display_name": "Python 3.8.8 ('base')",
   "language": "python",
   "name": "python3"
  },
  "language_info": {
   "codemirror_mode": {
    "name": "ipython",
    "version": 3
   },
   "file_extension": ".py",
   "mimetype": "text/x-python",
   "name": "python",
   "nbconvert_exporter": "python",
   "pygments_lexer": "ipython3",
   "version": "3.8.8"
  },
  "vscode": {
   "interpreter": {
    "hash": "3d894767a748ae32987cbebeaec93efb51fe7a630f5d0166a60f00b04d640165"
   }
  }
 },
 "nbformat": 4,
 "nbformat_minor": 2
}
