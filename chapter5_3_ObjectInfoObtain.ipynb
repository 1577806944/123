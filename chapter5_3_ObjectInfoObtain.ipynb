{
 "cells": [
  {
   "cell_type": "code",
   "execution_count": null,
   "metadata": {},
   "outputs": [],
   "source": [
    "#5.3.1 type 函数\n",
    "import types\n",
    "\n",
    "\n",
    "class Fruit(object):\n",
    "    def run(self):\n",
    "        print (\"我是一种水果\")\n",
    "class Apple(Fruit):\n",
    "    def run(self):\n",
    "        print(\"我是苹果\")\n",
    "class Orange(Fruit):\n",
    "    def run(self):\n",
    "        print(\"我是橘子\")\n",
    "def sun():\n",
    "     pass\n",
    "apple = Apple()\n",
    "orange = Orange()\n",
    "print(type(Apple))\n",
    "print(type(orange))\n",
    "print(type(apple.run))\n",
    "print(type(Apple.run))\n",
    "print(type(sun) == types.FunctionType)\n",
    "#问题1：可否判断实例\n",
    "#print(type(orange) == types.__main__.Orange)"
   ]
  },
  {
   "cell_type": "code",
   "execution_count": null,
   "metadata": {},
   "outputs": [],
   "source": [
    "#5.3.2 isinstance函数\n",
    "print(isinstance(orange,Orange))\n",
    "print(isinstance(1,int))\n",
    "print(isinstance(1.0,int))\n",
    "print(isinstance(1==2,bool))\n",
    "print(isinstance([1,2],type([2,1])))\n",
    "#-----------------------#\n",
    "#用于判断多种类型的一种\n",
    "print(isinstance(1,(float,int,bool)))"
   ]
  },
  {
   "cell_type": "code",
   "execution_count": null,
   "metadata": {},
   "outputs": [],
   "source": [
    "#5.3.3 dir函数\n",
    "#获取对象的所有方法与属性\n",
    "print(dir(Apple))\n",
    "print(\"-\"*80)\n",
    "print(dir(apple))\n",
    "print(\"-\"*80)\n",
    "print(dir([]))"
   ]
  },
  {
   "cell_type": "code",
   "execution_count": null,
   "metadata": {},
   "outputs": [],
   "source": [
    "#5.3.3 类内置的特殊属性\n",
    "class MyClass():\n",
    "    def __init__(self) -> None:\n",
    "        self.name = \"me\"\n",
    "        self.age = 10\n",
    "        self.sex = 'male'\n",
    "        pass\n",
    "    #__str__ = \"我的类\"\n",
    "    #__doc__ = '''这是一份类的说明文档'''\n",
    "myc = MyClass()\n",
    "print(myc.__str__)\n",
    "print(myc.__doc__)\n",
    "print(myc.__dict__)\n",
    "print(myc.__class__)"
   ]
  },
  {
   "cell_type": "code",
   "execution_count": null,
   "metadata": {},
   "outputs": [],
   "source": [
    "#5.3.4* 类中的其他专用方法部分列举（选学内容）\n",
    "#----------------------------------------#\n",
    "#__str__，类被调用时的返回值\n",
    "class Test():\n",
    "    def __init__(self) -> None:\n",
    "        self.message = \"this is my class for test!\"\n",
    "    def func(self,msg):\n",
    "        print(msg)\n",
    "    def __str__(self) -> str:\n",
    "        return(self.message)\n",
    "t = Test()\n",
    "t.func(\"None~\")\n",
    "print(t)    \n",
    "#----------------------------------------#\n",
    "#__iter__ & next,迭代器，类被for循环调用的时候，返回__next__的返回值\n",
    "class OddNumber():\n",
    "    def __init__(self) -> None:\n",
    "        self.num = -1\n",
    "    def __iter__(self):\n",
    "        return self\n",
    "    def __next__(self):\n",
    "        self.num += 2\n",
    "        if self.num >100:\n",
    "            raise StopIteration\n",
    "        return(self.num)\n",
    "    def __getitem__(self,n):\n",
    "        a=self.num+2\n",
    "        for x in range(n):\n",
    "            a +=2\n",
    "        return a\n",
    "for n in OddNumber():\n",
    "    print(n)\n",
    "oddnum = OddNumber()\n",
    "print(oddnum[0])"
   ]
  }
 ],
 "metadata": {
  "kernelspec": {
   "display_name": "Python 3.10.6 ('sklearn-env')",
   "language": "python",
   "name": "python3"
  },
  "language_info": {
   "codemirror_mode": {
    "name": "ipython",
    "version": 3
   },
   "file_extension": ".py",
   "mimetype": "text/x-python",
   "name": "python",
   "nbconvert_exporter": "python",
   "pygments_lexer": "ipython3",
   "version": "3.10.6"
  },
  "orig_nbformat": 4,
  "vscode": {
   "interpreter": {
    "hash": "6d383d3a0a13a0bee9f7dd6d69cb74b8fdfd53af80046b31138d5ad498ebeae5"
   }
  }
 },
 "nbformat": 4,
 "nbformat_minor": 2
}
