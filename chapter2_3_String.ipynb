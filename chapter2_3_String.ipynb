{
 "cells": [
  {
   "cell_type": "code",
   "execution_count": null,
   "metadata": {
    "slideshow": {
     "slide_type": "notes"
    }
   },
   "outputs": [],
   "source": [
    "#1. 字符串的基本语法\n",
    "#单引号方式\n",
    "print(\"------------单引号方式------------\")\n",
    "str_1 = 'spam'\n",
    "print(str_1)\n",
    "#双引号方式\n",
    "print(\"------------双引号方式------------\")\n",
    "str_2 = \"spam\"\n",
    "print(str_2)\n",
    "#问：单或者双引号字符怎么处理？\n",
    "print(\"--------单、双引号字符处理--------\")\n",
    "str_quotation = \"spa'm\"\n",
    "print(str_quotation)\n",
    "str_d_quotation = 'spa\"m'\n",
    "print(str_d_quotation)\n",
    "#三引号方式：段落方式\n",
    "str_para = \"\"\"学习使我快乐\n",
    "学习让我开心\n",
    "室友叫我去吃饭\n",
    "我充耳不闻\n",
    "朋友叫我打游戏\n",
    "我纹丝不动\n",
    "女友叫我看电影\n",
    "我无动于衷\n",
    "我爱学习\n",
    "\"\"\"\n",
    "print(\"------------三引号方式------------\")\n",
    "print(str_para)\n",
    "#转义符序列\n",
    "print(\"------------转移符序列------------\")\n",
    "str_escape = \"s\\tp\\na\\0m\"\n",
    "print(str_escape)\n",
    "#原始字符串\n",
    "print(\"------------原始字符串------------\")\n",
    "str_org = r\"\\c\\xc:\\a'''''s\\da\"\n",
    "print(str_org)"
   ]
  },
  {
   "cell_type": "code",
   "execution_count": null,
   "metadata": {
    "slideshow": {
     "slide_type": "notes"
    }
   },
   "outputs": [],
   "source": [
    "#2. 转移符的使用方法\n",
    "print(\"1.接下一行:\",\"a\\\n",
    "b\\\n",
    "c\\\n",
    "d\")\n",
    "print(\"2.右斜杠:\",\"\\\\\")\n",
    "print(\"3.单引号:\",\"\\'\")\n",
    "print(\"4.双引号:\",\"\\\"\")\n",
    "print(\"5.响铃一次:\",\"\\a\")#用cmd打开python运行\n",
    "print(\"6.换行:\",\"\\n\")#类似enter\n",
    "print(\"7.水平制表符:\",\"test\\ttest\")#类似tab键\n",
    "print(\"8.十六进制字符:\",\"\\x61\")#x后接上2位数字，十六进制\n",
    "print(\"9.八进制字符:\",\"\\141\")#|后直接接上3位数字，八进制\n",
    "print(\"10.空字符:\",\"\\0\")\n",
    "#问：空字符\\0的长度是多少？\n",
    "print(\"11.16位十六进制Unicode:\",\"\\u4668\")\n",
    "print(len(\"\\0\"))"
   ]
  },
  {
   "cell_type": "code",
   "execution_count": null,
   "metadata": {
    "slideshow": {
     "slide_type": "notes"
    }
   },
   "outputs": [],
   "source": [
    "#3. 字符串的基本操作\n",
    "\"\"\"字符串可以看成是一种特殊的列表，\\\n",
    "一些常见的列表的操作可以延用在字符串\n",
    "\"\"\"\n",
    "print(\"1.字符串连接:\",\"abc\"+\"def\")\n",
    "print(\"2.字符串的长度:\",len(\"123456\"))\n",
    "print(\"3.字符串重复:\",'-'*20)\n",
    "str=\"list\"\n",
    "print(\"4.字符串索引:\",str[0],str[1:],str[1:3],str[-1],str[:3],str[::-1])\n",
    "print(\"5.字符串寻找:\",'i' in str,'a' in str,'is' in str)\n",
    "str = str*4\n",
    "print(\"6.间隔索引方式:\",str[0:4:2],str[::4],str[::-5])\n",
    "#问题1：字符串是否可以和列表相加？\n",
    "seq = \"ss\"+[1,2,3]\n",
    "print(seq)\n",
    "#print(str_seq+num_seq)"
   ]
  },
  {
   "cell_type": "code",
   "execution_count": 2,
   "metadata": {
    "slideshow": {
     "slide_type": "notes"
    }
   },
   "outputs": [
    {
     "name": "stdout",
     "output_type": "stream",
     "text": [
      "1.整数转字符串: 421\n",
      "2.字符串转整数: 43\n",
      "3.浮点数与字符串相互转换 42.34 42.34\n"
     ]
    }
   ],
   "source": [
    "#4. string类型转换\n",
    "#\"42\"+1\n",
    "print(\"1.整数转字符串:\",\"42\"+str(1))\n",
    "print(\"2.字符串转整数:\",int(\"42\")+1)\n",
    "#问：当42.34这样的小数用int转换的时候会出现什么样的结果？\n",
    "int(float(\"42.34\"))\n",
    "#问：当42.24这样的浮点数转换成string会出现什么样的结果？\n",
    "print(\"3.浮点数与字符串相互转换\",float(\"42.34\"),str(42.34))"
   ]
  },
  {
   "cell_type": "code",
   "execution_count": 4,
   "metadata": {
    "slideshow": {
     "slide_type": "notes"
    }
   },
   "outputs": [
    {
     "name": "stdout",
     "output_type": "stream",
     "text": [
      "spammy\n",
      "1.重新赋值方式: spaxxy\n",
      "2.直接使用replace函数: spammy\n",
      "3.字符串对象直接调用成员函数: 'spammy'.replace('m','x')\n",
      "4.部分替换的方式: $$$SdsOKfdsOKaas $$$SdsOKfds%%%aas\n",
      "5.list与string相互转换: ['s', 'p', 'a', 'm', 'm', 'y'] spammy\n",
      "1\n"
     ]
    }
   ],
   "source": [
    "#5. 改变字符串的方法\n",
    "str_1='spammy'\n",
    "#问：既然string是一种特殊的list，\n",
    "#那是否可以直接通过索引对其进行直接赋值来更改？\n",
    "#str_1[3]='x'\n",
    "print(str_1)\n",
    "str_1 = str_1[:3]+'xx'+str_1[5:]\n",
    "print(\"1.重新赋值方式:\",str_1)\n",
    "str_1 = str_1.replace('xx','mm')\n",
    "print(\"2.直接使用replace函数:\",str_1)\n",
    "print(\"3.字符串对象直接调用成员函数:\",\"'spammy'.replace('m','x')\")\n",
    "print(\"4.部分替换的方式:\",\"$$$Sds%%%fds%%%aas\".replace(\\\n",
    "    '%%%',\"OK\"),\"$$$Sds%%%fds%%%aas\".replace('%%%',\"OK\",1))\n",
    "L = list('spammy')\n",
    "str_1 = ''.join(L)\n",
    "print(\"5.list与string相互转换:\",L,str_1)\n",
    "str =1\n",
    "print(str)"
   ]
  },
  {
   "cell_type": "code",
   "execution_count": 6,
   "metadata": {
    "slideshow": {
     "slide_type": "notes"
    }
   },
   "outputs": [
    {
     "name": "stdout",
     "output_type": "stream",
     "text": [
      "1.使用索引方式分割字符串: aaa  ccc\n",
      "2.使用split方法分割字符串: ['aaa', 'bbb', 'ccc']\n",
      "['a', 'b', 'c', 'd', 'e']\n",
      "3.消除字符串开始与结束的字符:\n",
      " | The knights who say Ni!     |    The knights who say Ni! |\n"
     ]
    }
   ],
   "source": [
    "#6. string的常用方法\n",
    "line_text = 'aaa bbb ccc'\n",
    "col_1 = line_text[:4]\n",
    "col_2 = line_text[8:]\n",
    "print(\"1.使用索引方式分割字符串:\",col_1,col_2)\n",
    "cols = line_text.split()#默认分割字符为一个空格\n",
    "print(\"2.使用split方法分割字符串:\",cols)\n",
    "#问：如果待分割字符串是以'，'为分隔符，如何处理？\n",
    "#\"a,b,d,e,f\"\n",
    "charts = \"a,b,c,d,e\".split(\",\")\n",
    "print(charts)\n",
    "#\"问：如果分割符不是字符而是字符串，是否可处理？\n",
    "#\"IthISwantthISlearnthISpythonthIS!\",thIS是分隔符\n",
    "line_text = \"   The knights who say Ni!    \"\n",
    "#line_text = line_text[3:25]\n",
    "print(\"3.消除字符串开始与结束的字符:\\n\",\"|\",line_text.lstrip(),\"|\",line_text.rstrip(),\"|\")"
   ]
  },
  {
   "cell_type": "code",
   "execution_count": 9,
   "metadata": {
    "scrolled": true,
    "slideshow": {
     "slide_type": "notes"
    }
   },
   "outputs": [
    {
     "name": "stdout",
     "output_type": "stream",
     "text": [
      "1.string格式化表达方式1： 千与千寻\n",
      "2.string格式化表达方式2： 百千与千寻千\n",
      "1.1. s:表示字符串 This is a string\n",
      "1.2. c:字符（int或str） This is a string\n",
      "1.3. d,i,u,e,E,f,F:各种数值型: \n",
      "%d十进制整数\t\t：10      \n",
      "%i整数\t\t\t：10      \n",
      "%u无符号整数\t\t：10      \n",
      "%f浮点数\t\t：10.110000      \n",
      "%F与%f一样      \n",
      "%e科学计数法\t\t：1.233334e+07      \n",
      "%E大写E的科学计数法\t：1.233334E+07      \n",
      "1.4 x,X,o:十六进制和八进制： \n",
      "%x十六进制（字母小写）\t:ff      \n",
      "%X十六进制（字母大写）\t:FF      \n",
      "%o八进制\t\t:377      \n"
     ]
    }
   ],
   "source": [
    "#7. string的格式化表达\n",
    "print('1.string格式化表达方式1：','%s与千寻'%\"千\")\n",
    "print('2.string格式化表达方式2：','{1}{0}与千寻{0}'.format(\"千\",\"百\"))\n",
    "#1.string格式化表达：'...%s...' %(value)\n",
    "print(\"1.1. s:表示字符串\",\"Th%s is a %s\"%('is','string'))\n",
    "print(\"1.2. c:字符（int或str）\",\"%chis is %c string\"%('T','a'))\n",
    "print(\"1.3. d,i,u,e,E,f,F:各种数值型:\",\\\n",
    "      \"\\n%%d十进制整数\\t\\t：%d\\\n",
    "      \\n%%i整数\\t\\t\\t：%i\\\n",
    "      \\n%%u无符号整数\\t\\t：%u\\\n",
    "      \\n%%f浮点数\\t\\t：%f\\\n",
    "      \\n%%F与%%f一样\\\n",
    "      \\n%%e科学计数法\\t\\t：%e\\\n",
    "      \\n%%E大写E的科学计数法\\t：%E\\\n",
    "      \"\\\n",
    "      %(10.12,10.32,10.11,10.11,12333345,12333345))\n",
    "print(\"1.4 x,X,o:十六进制和八进制：\",\\\n",
    "      \"\\n%%x十六进制（字母小写）\\t:%x\\\n",
    "      \\n%%X十六进制（字母大写）\\t:%X\\\n",
    "      \\n%%o八进制\\t\\t:%o\\\n",
    "      \"\\\n",
    "      %(255,255,255))"
   ]
  },
  {
   "cell_type": "code",
   "execution_count": 10,
   "metadata": {},
   "outputs": [
    {
     "name": "stdout",
     "output_type": "stream",
     "text": [
      "1,2 and 3.012\n",
      "1,2 and 3.0f\n"
     ]
    }
   ],
   "source": [
    "#8. string.format的C#风格的格式化方法\n",
    "template = '{0},{1} and {2}'.format(1,'2',3.012 )\n",
    "print(template)\n",
    "template = '{first},{0} and {second}'.format('2',first = '1',second = '3.0f' )\n",
    "print(template)"
   ]
  }
 ],
 "metadata": {
  "celltoolbar": "幻灯片",
  "kernelspec": {
   "display_name": "Python 3.8.8 ('base')",
   "language": "python",
   "name": "python3"
  },
  "language_info": {
   "codemirror_mode": {
    "name": "ipython",
    "version": 3
   },
   "file_extension": ".py",
   "mimetype": "text/x-python",
   "name": "python",
   "nbconvert_exporter": "python",
   "pygments_lexer": "ipython3",
   "version": "3.8.8"
  },
  "vscode": {
   "interpreter": {
    "hash": "3d894767a748ae32987cbebeaec93efb51fe7a630f5d0166a60f00b04d640165"
   }
  }
 },
 "nbformat": 4,
 "nbformat_minor": 2
}
