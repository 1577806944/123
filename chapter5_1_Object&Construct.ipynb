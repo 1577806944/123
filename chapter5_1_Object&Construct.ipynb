{
 "cells": [
  {
   "cell_type": "code",
   "execution_count": null,
   "metadata": {},
   "outputs": [],
   "source": [
    "#5.1.1. 类的定义\n",
    "class ClassName(object):#类名，通常大写开头，object所有的类的基类\n",
    "    def __init__(self) -> None:\n",
    "        pass\n"
   ]
  },
  {
   "cell_type": "code",
   "execution_count": null,
   "metadata": {},
   "outputs": [],
   "source": [
    "#5.1.2. 类的使用\n",
    "\n",
    "class MyClass(object):\n",
    "    param = ''\n",
    "    def __init__(self) -> None:\n",
    "        self.param = '成员变量/属性'\n",
    "    def func(self):\n",
    "        print('成员函数/方法')\n",
    "        return None\n",
    "    def func_self_usage(self):\n",
    "        param = '内部参数'\n",
    "        #问题1:调用该方法的结果是什么？\n",
    "        print(param)\n",
    "        print(self.param)\n",
    "\n",
    "myc = MyClass()"
   ]
  },
  {
   "cell_type": "code",
   "execution_count": null,
   "metadata": {},
   "outputs": [],
   "source": [
    "#5.1.2. 类的使用\n",
    "class TestClass(object):\n",
    "    __a = 3\n",
    "    def __init__(self,number):\n",
    "        print (\"这是构造方法\")\n",
    "        self.number = number\n",
    "    def f(self):\n",
    "        print (\"这是方法\")\n",
    "        #return self.a+self.number\n",
    "    def __inlineFunc(self):\n",
    "        print(\"这是私有方法\")\n",
    "    def printInlineFunc(self):\n",
    "        self.__inlineFunc()\n",
    "use_class = TestClass(1)\n",
    "#实例化对象\n",
    "#print(use_class.a)\n",
    "print(use_class.f())\n",
    "#调用类中的属性\n",
    "use_class.a = 4\n",
    "#修改类中的属性\n",
    "use_class.number = 5\n",
    "#修改类中非方法中的属性\n",
    "print(use_class.f())\n",
    "#调用类中的方法\n",
    "use_class.printInlineFunc()"
   ]
  },
  {
   "cell_type": "code",
   "execution_count": null,
   "metadata": {},
   "outputs": [],
   "source": [
    "#5.1.3. 类的访问权限\n",
    "#一般属性和方法均为公有\n",
    "class BaseClass(object):\n",
    "    publicparam = \"公有参数\"\n",
    "    _protectedparam = '受保护参数'\n",
    "    __privateparam = '私有参数'\n",
    "    def public_method(self):\n",
    "        print(self.publicparam)\n",
    "        #问题1:公有方法内是否可否访问/修改保护参数和私有参数？\n",
    "    def _protected_method(self):\n",
    "        print('受保护的方法')\n",
    "    def __private_method(self):\n",
    "        print('私有方法')\n",
    "bc = BaseClass()\n",
    "\n",
    "#问题2: 下面两行代码可否执行？\n",
    "#print(bc.publicparam)\n",
    "#print(bc.__privateparam)\n",
    "#问题3: 下面两行代码可否执行？\n",
    "#bc.public_method()\n",
    "#bc.__private_method()\n",
    "#问题4: 下面两行代码可否执行？\n",
    "#print(bc._protectedparam)\n",
    "#bc._protected_method()\n",
    "#-----------------------------#\n",
    "'''\n",
    "对python来说，成员的访问权限是程序员的事，内部并不对参数访问权限进行限定，\n",
    "protected成员仅保留用于程序员开发设计时的一种习惯。\n",
    "其均能被类内和外部以及派生类访问。\n",
    "'''\n",
    "'''\n",
    "class InheritanceClass(BaseClass):\n",
    "    def inh_print_protected_param(self):\n",
    "        print(self._protectedparam)\n",
    "    def inh_print_private_param(self):\n",
    "        print(self.__privateparam)\n",
    "myinh = InheritanceClass()\n",
    "#myinh.print_private_param()\n",
    "#myinh.print_protected_param()\n",
    "#myinh.inh_print_protected_param()\n",
    "#myinh.inh_print_private_param()\n",
    "'''"
   ]
  },
  {
   "cell_type": "code",
   "execution_count": null,
   "metadata": {},
   "outputs": [],
   "source": [
    "#5.1.4 static method & class method\n",
    "class NewClass(object):\n",
    "    @staticmethod\n",
    "    def func_1(a):\n",
    "        print(\"this is a static method\\n\"+str(a))\n",
    "    @classmethod\n",
    "    def func_2(self,a):\n",
    "        print(\"this is a class method\\n\"+str(a))\n",
    "nc = NewClass()\n",
    "nc.func_1(\"static\")\n",
    "nc.func_2(\"class\")\n",
    "NewClass.func_1('static')\n",
    "NewClass.func_2('class')\n",
    "'''\n",
    "区别1:\n",
    "classmethod的第一个参数为类本身(cls)，\n",
    "正如实例方法的第一个参数为对象本身(self);\n",
    "staticmethod第一个参数不需要传入cls或self，\n",
    "故staticmethod中是无法访问类和对象的数据的。\n",
    "区别2:\n",
    "classmethod可以设置修改类属性；也可以实例化对象；\n",
    "staticmethod无法访问类或对象的数据，\n",
    "所以可把它当作一个辅助功能方法用，\n",
    "里面包含一些与该类有关的逻辑代码。比如validate(*args)\n",
    "\n",
    "案例：\n",
    "从本地文件中(txt, csv, json等等)读取数据，生成一个对象。\n",
    "比如，本地有一个data.txt文件，里面包含了每个学生的姓名及对应的考试成绩。\n",
    "现在要求读取该数据，生成一个class对象。\n",
    "思路：\n",
    "__init__方法中清晰的声明对象的属性\n",
    "用一个classmethod:load_txt，专门用于读取data_file，获取数据，实例化对象\n",
    "用一个staticmethod:validate，来对要文件或初始化数据（不涉及类属性）进行有效性检查\n",
    "'''"
   ]
  },
  {
   "cell_type": "code",
   "execution_count": 16,
   "metadata": {},
   "outputs": [
    {
     "name": "stdout",
     "output_type": "stream",
     "text": [
      "314.1592653589793\n",
      "62.83185307179586\n"
     ]
    }
   ],
   "source": [
    "#5.1.5 property属性\n",
    "#在C++里一般会将所有的所有的数据都设置为私有的，\n",
    "#然后提供set和get方法（接口）去设置和获取，\n",
    "#在python中通过property方法可以实现\n",
    "from math import pi\n",
    "class Circle:\n",
    "    def __init__(self,radius): #圆的半径radius\n",
    "        self.radius=radius\n",
    " \n",
    "    @property\n",
    "    def area(self):\n",
    "        return pi * self.radius**2 #计算面积\n",
    " \n",
    "    @property\n",
    "    def perimeter(self):\n",
    "        return 2*pi*self.radius #计算周长\n",
    " \n",
    "c=Circle(10)\n",
    "print(c.area) #可以向访问属性一样去访问方法,会触发一个函数的执行,动态计算出一个值\n",
    "print(c.perimeter) #同上"
   ]
  }
 ],
 "metadata": {
  "kernelspec": {
   "display_name": "Python 3.8.8 ('base')",
   "language": "python",
   "name": "python3"
  },
  "language_info": {
   "codemirror_mode": {
    "name": "ipython",
    "version": 3
   },
   "file_extension": ".py",
   "mimetype": "text/x-python",
   "name": "python",
   "nbconvert_exporter": "python",
   "pygments_lexer": "ipython3",
   "version": "3.8.8"
  },
  "orig_nbformat": 4,
  "vscode": {
   "interpreter": {
    "hash": "3d894767a748ae32987cbebeaec93efb51fe7a630f5d0166a60f00b04d640165"
   }
  }
 },
 "nbformat": 4,
 "nbformat_minor": 2
}
