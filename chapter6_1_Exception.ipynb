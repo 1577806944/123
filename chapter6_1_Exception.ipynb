{
 "cells": [
  {
   "cell_type": "code",
   "execution_count": null,
   "metadata": {},
   "outputs": [],
   "source": [
    "#6.1 异常与异常处理\n",
    "from cmath import e, inf\n",
    "\n",
    "\n",
    "def func_1(a,b):\n",
    "    c = a/b\n",
    "    return c\n",
    "def func_1_try(a,b):\n",
    "    try:\n",
    "        c = a/b \n",
    "    except Exception:\n",
    "        print(\"出现错误\")\n",
    "        #raise RuntimeError(\"something happened\") from exc\n",
    "def func_1_try_msg(a,b):\n",
    "    try:\n",
    "        c = a/b\n",
    "    except Exception as exc:\n",
    "        print(\"出现错误：\\0\"+exc.__str__())\n",
    "#func_1(1,0)\n",
    "func_1_try(1,\"0\")\n",
    "func_1_try_msg(1,\"\")"
   ]
  },
  {
   "cell_type": "code",
   "execution_count": null,
   "metadata": {},
   "outputs": [],
   "source": [
    "#6.2 处理多个异常\n",
    "from io import UnsupportedOperation\n",
    "\n",
    "\n",
    "def handle_multi_except(a,b):\n",
    "    try:\n",
    "        c = a/b\n",
    "        print(c)\n",
    "        open(\"../chapter6/test.txt\")\n",
    "    except ZeroDivisionError as zde:\n",
    "        print(\"ZeroDivisionError:\"+zde.__str__())\n",
    "    except TypeError as te:\n",
    "        print(\"TypeError:\"+te.__str__())\n",
    "    #except FileNotFoundError as ioe:\n",
    "    except IOError as ioe:\n",
    "        print(\"IOError: \"+ioe.__str__())\n",
    "    #问题1：如何用一行来处理所有已知可能出现的异常？\n",
    "    \n",
    "div = [2,0,\"3\"]\n",
    "for x in div:\n",
    "    handle_multi_except(1,x)"
   ]
  },
  {
   "cell_type": "code",
   "execution_count": null,
   "metadata": {},
   "outputs": [],
   "source": [
    "#*一些常用的帮助\n",
    "#help(BaseException)\n",
    "#BaseException.__doc__\n",
    "#具体错误参看 \"https://docs.python.org/zh-cn/3/library/exceptions.html?highlight=baseexception#BaseException\""
   ]
  },
  {
   "cell_type": "code",
   "execution_count": 57,
   "metadata": {},
   "outputs": [],
   "source": [
    "#6.3 else & finally\n",
    "# try:\n",
    "#     result = 20 / int(input('请输入除数:'))\n",
    "#     print(result)\n",
    "# except ValueError:\n",
    "#     print('必须输入整数')\n",
    "# except ArithmeticError:\n",
    "#     print('算术错误，除数不能为 0')\n",
    "# else:\n",
    "#     print('没有出现异常')\n",
    "# print(\"继续执行\")\n",
    "#问题1： 不用else 直接将print('没有出现异常')语句写在try程序块后面是否可以？\n",
    "#---------------------------finally-------------------------------\n",
    "#finally和 else 语句不同，其只要求和 try 搭配使用，而至于该结构中是否包含 except 以及 else，\n",
    "#对于 finally 不是必须的（else 必须和 try except 搭配使用）。\n",
    "\n",
    "# try:\n",
    "#     result = 20 / int(input('请输入除数:'))\n",
    "#     print(result)\n",
    "# finally:\n",
    "#     print(\"继续执行\")\n",
    "\n",
    "#问题2: 不用finally可以吗？\n",
    "# try:\n",
    "#     result = 20 / int(input('请输入除数:'))\n",
    "#     print(result)\n",
    "# except:\n",
    "#     print(\"error!\")\n",
    "# print(\"继续执行\")\n",
    "#无论 try 块是否发生异常，最终都要进入 finally 语句，并执行其中的代码块。\n",
    "#这意味着try块中的代码如果发生了异常，可以不被处理，进行善后处理"
   ]
  },
  {
   "cell_type": "code",
   "execution_count": 62,
   "metadata": {},
   "outputs": [],
   "source": [
    "#6.4 raise的用法\n",
    "#问题1: 程序正常运行是我们的追求目标，为什么需要手动引发异常？\n",
    "# try:\n",
    "#     a = input(\"输入一个数：\")\n",
    "#     #判断用户输入的是否为数字\n",
    "#     # if(not a.isdigit()):\n",
    "#     #     raise ValueError(\"a 必须是数字\")\n",
    "# except ValueError as e:#问题2：把ValueError改成Exception或BaseException？\n",
    "#     print(\"引发异常：\",repr(e))\n",
    "#可以看出手动引发（抛出）异常，不是打断程序，而是捕获对应的异常进行捕获进行处理。\n",
    "#raise的一般目的是处理这种情况：当程序不是运行异常，而是在正常运行的情况下需要处理的异常。\n",
    "#-------------------------------------------------------\n",
    "#raise不带参数时，引发运行时错误\n",
    "# try:\n",
    "#     a = input(\"输入一个数：\")\n",
    "#     #判断用户输入的是否为数字\n",
    "#     if(not a.isdigit()):\n",
    "#         raise ValueError(\"a 必须是数字\")\n",
    "# except ValueError as e:\n",
    "#     print(\"引发异常：\",repr(e))"
   ]
  }
 ],
 "metadata": {
  "kernelspec": {
   "display_name": "Python 3.10.6 ('sklearn-env')",
   "language": "python",
   "name": "python3"
  },
  "language_info": {
   "codemirror_mode": {
    "name": "ipython",
    "version": 3
   },
   "file_extension": ".py",
   "mimetype": "text/x-python",
   "name": "python",
   "nbconvert_exporter": "python",
   "pygments_lexer": "ipython3",
   "version": "3.10.6"
  },
  "orig_nbformat": 4,
  "vscode": {
   "interpreter": {
    "hash": "6d383d3a0a13a0bee9f7dd6d69cb74b8fdfd53af80046b31138d5ad498ebeae5"
   }
  }
 },
 "nbformat": 4,
 "nbformat_minor": 2
}
