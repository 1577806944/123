{
 "cells": [
  {
   "cell_type": "code",
   "execution_count": null,
   "metadata": {},
   "outputs": [],
   "source": [
    "#递归函数\n",
    "def mysum(L):\n",
    "    print(L)\n",
    "    if not L:\n",
    "        return 0\n",
    "    else:\n",
    "        return L[0]+mysum(L[1:])\n",
    "mysum([1,2,3,4,5,6,7])"
   ]
  },
  {
   "cell_type": "code",
   "execution_count": null,
   "metadata": {},
   "outputs": [],
   "source": [
    "#递归函数的另外三种方法\n",
    "#1. 使用三元表达式\n",
    "def mysum_ternary(L):\n",
    "    return 0 if not L else L[0] + mysum(L[1:])\n",
    "print(mysum_ternary([1,2,3,4,5]))\n",
    "#2. 任意类型，假设一种\n",
    "def mysum_any(L):\n",
    "    return L[0] if len(L) == 1 else L[0] + mysum(L[1:])\n",
    "print(mysum_any([1,2,3,4,5]))\n",
    "#3. 使用序列赋值\n",
    "def mysum_seq(L):\n",
    "    first, *rest = L\n",
    "    return first if not rest else first + mysum(rest)\n",
    "print(mysum_seq([1,2,3,4,5]))"
   ]
  },
  {
   "cell_type": "code",
   "execution_count": null,
   "metadata": {},
   "outputs": [],
   "source": [
    "def sumtree(L):\n",
    "    tot = 0\n",
    "    for x in L: # For each item at this level\n",
    "        if not isinstance(x, list):\n",
    "            tot += x # Add numbers directly\n",
    "        else:\n",
    "            tot += sumtree(x) # Recur for sublists\n",
    "    return tot\n",
    "L = [1, [2, [3, 4], 5], 6, [7, 8]] # Arbitrary nesting\n",
    "print(sumtree(L)) # Prints 36\n",
    "# Pathological cases\n",
    "print(sumtree([1, [2, [3, [4, [5]]]]])) # Prints 15 (right-heavy)\n",
    "print(sumtree([[[[[1], 2], 3], 4], 5])) # Prints 15 (left-heavy)"
   ]
  },
  {
   "cell_type": "code",
   "execution_count": null,
   "metadata": {},
   "outputs": [],
   "source": []
  }
 ],
 "metadata": {
  "kernelspec": {
   "display_name": "Python 3.8.2 64-bit",
   "language": "python",
   "name": "python3"
  },
  "language_info": {
   "codemirror_mode": {
    "name": "ipython",
    "version": 3
   },
   "file_extension": ".py",
   "mimetype": "text/x-python",
   "name": "python",
   "nbconvert_exporter": "python",
   "pygments_lexer": "ipython3",
   "version": "3.8.2"
  },
  "vscode": {
   "interpreter": {
    "hash": "31f2aee4e71d21fbe5cf8b01ff0e069b9275f58929596ceb00d14d90e3e16cd6"
   }
  }
 },
 "nbformat": 4,
 "nbformat_minor": 2
}
