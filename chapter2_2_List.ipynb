{
 "cells": [
  {
   "cell_type": "code",
   "execution_count": null,
   "metadata": {},
   "outputs": [],
   "source": [
    "#1.1 列表初始化\n",
    "print(\"------------空列表------------\")\n",
    "L1=[]#空列表\n",
    "print(\"空列表:\\t \",L1)\n",
    "print(\"-----------数值列表-----------\")\n",
    "L2=list(range(-1,15))#数值列表\n",
    "print(\"数值列表: \",L2)\n",
    "print(\"-----------字符列表-----------\")\n",
    "L3=list(\"is's a string\")#字符列表\n",
    "print(\"字符列表: \",L3)\n",
    "print(\"------ --混合对象列表---------\")\n",
    "L4=[123, 'abc', 1.23, {1,'22',2}]#混合对象列表\n",
    "print(\"混合对象列表: \",L4)\n",
    "print(\"-----------嵌套列表-----------\")\n",
    "L5=['Bob', 40.0, ['dev', 'mgr']]#嵌套列表\n",
    "print(\"嵌套列表: \",L5)"
   ]
  },
  {
   "cell_type": "code",
   "execution_count": null,
   "metadata": {},
   "outputs": [],
   "source": [
    "#1.2 不同类型列表\n",
    "print(\"------------空列表------------\")\n",
    "L1=[]#空列表\n",
    "print(\"空列表:\\t \",L1)\n",
    "print(\"-----------数值列表-----------\")\n",
    "L2=list(range(-1,15))#数值列表\n",
    "print(\"数值列表: \",L2)\n",
    "print(\"-----------字符列表-----------\")\n",
    "L3=list(\"is's a string\")#字符列表\n",
    "print(\"字符列表: \",L3)\n",
    "print(\"------ --混合对象列表---------\")\n",
    "L4=[123, 'abc', 1.23, {1,'22',2}]#混合对象列表\n",
    "print(\"混合对象列表: \",L4)\n",
    "print(\"-----------嵌套列表-----------\")\n",
    "L5=['Bob', 40.0, ['dev', 'mgr']]#嵌套列表\n",
    "print(\"嵌套列表: \",L5)"
   ]
  },
  {
   "cell_type": "code",
   "execution_count": null,
   "metadata": {},
   "outputs": [],
   "source": [
    "#2.列表赋值的方式\n",
    "seq_quest2_1=list(range(-1,15))\n",
    "#元素直接赋值\n",
    "print(\"----------元素直接赋值-----------\")\n",
    "seq_quest2_1[0] = 10\n",
    "seq_quest2_1[-1] = -10\n",
    "print(seq_quest2_1)\n",
    "#元素片段赋值\n",
    "print(\"----------元素片段赋值-----------\")\n",
    "seq_quest2_1[2:5]=[-1,-2,-3]\n",
    "print(seq_quest2_1)\n",
    "#循环赋值方式\n",
    "print(\"----------元素循环赋值-----------\")\n",
    "seq_quest2_1=[x**2 for x in range(5)]\n",
    "print(seq_quest2_1)"
   ]
  },
  {
   "cell_type": "code",
   "execution_count": null,
   "metadata": {},
   "outputs": [],
   "source": [
    "#3.列表的索引方式\n",
    "seq_quest3_1=[123, 'abc', 1.23, {}]\n",
    "print(seq_quest3_1)\n",
    "seq_quest3_1[1]#列表中的元素索引方式类似于C语言中的数组，索引起始为0\n",
    "seq_quest3_1[-1]#最后一个元素可以用-1来索引。类推：倒数第二个？\n",
    "#seq_quest3_1[i][j]表示L的第i个元素的第j个元素\n",
    "#问:如何访问seq_quest3_2中第3个元素的第1个元素？\n",
    "seq_quest3_2=['Bob', 40.0, ['dev', 'mgr']]\n",
    "print(seq_quest3_2[2][0])\n",
    "#希望索引一个列表中的片段如何操作？\n",
    "seq_quest3_4=list(range(-1,15))\n",
    "seq_quest3_4[1:3]\n",
    "#问题：假如想获取1-20中的奇数怎么办？\n",
    "seq_quest3_5 = list(range(1,21))\n",
    "print(seq_quest3_5)\n",
    "print(seq_quest3_5[19:0:-2])\n",
    "\n",
    "#PS:\n",
    "#步数为正值，从左取值：索引1≤索引2\n",
    "#步数为正值，索引1＞索引2，取值为空\n",
    "print(seq_quest3_5[::-1])\n",
    "#步数为负值，从右取值：索引1≥索引2\n",
    "#步数为负值，索引1＜索引2，取值为空\n",
    "#步数为负值，索引为空才能取到第一个值\n"
   ]
  },
  {
   "cell_type": "code",
   "execution_count": null,
   "metadata": {},
   "outputs": [],
   "source": [
    "#4.列表基本操作\n",
    "seq_quest4_1 = list(range(-1,15))\n",
    "seq_quest4_2 = list(\"this is a list\")\n",
    "\n",
    "#获得列表长度\n",
    "print(\"--------获取列表的长度--------\")\n",
    "print(\"seq_quest4_1的长度是：\",len(seq_quest4_1))\n",
    "print(\"seq_quest4_2的长度是：\",len(seq_quest4_2))\n",
    "\n",
    "#列表联合(序列相加+)\n",
    "print(\"---------seq_quest4_1与seq_quest4_2相加的结果-------\")\n",
    "print(seq_quest4_1+seq_quest4_2)\n",
    "\n",
    "\n",
    "#列表重复\n",
    "seq_quest4_3 = [1,2,3,4]\n",
    "print(\"--------3次重复列表seq_quest4_3----------\")\n",
    "print(len(seq_quest4_3),seq_quest4_3*3,len(seq_quest4_3*3))\n",
    "\n",
    "#问题1：以下两种情况的区别？\n",
    "print(str(list([1, 2]) )+ \"34\" )\n",
    "print([1, 2] + list(\"34\"))"
   ]
  },
  {
   "cell_type": "code",
   "execution_count": null,
   "metadata": {
    "scrolled": true
   },
   "outputs": [],
   "source": [
    "#5. 增加元素的几种方式\n",
    "seq_quest4_4=list(range(3))\n",
    "print(\"----------原始列表-----------\")\n",
    "print(seq_quest4_4)\n",
    "#后续增长一个元素\n",
    "print(\"-----后续增长一个元素--------\")\n",
    "seq_quest4_4.append(4)\n",
    "print(seq_quest4_4)\n",
    "#指定位置插入\n",
    "print(\"-------指定位置插入----------\")\n",
    "seq_quest4_4.insert(1,2)\n",
    "print(seq_quest4_4)\n",
    "#后续增长多个元素\n",
    "print(\"------后续增长多个元素-------\")\n",
    "seq_quest4_4.extend([1])\n",
    "#seq_quest4_4.append([1,2,3])\n",
    "print(seq_quest4_4)\n",
    "print('-'*20)\n"
   ]
  },
  {
   "cell_type": "code",
   "execution_count": null,
   "metadata": {
    "scrolled": false
   },
   "outputs": [],
   "source": [
    "#6. 移除元素几种方式\n",
    "seq_quest4_5=list(range(4))\n",
    "#按内容移除一个元素\n",
    "print(\"--------按内容移除一个元素--------\\n原数组：\",seq_quest4_5)\n",
    "temp=seq_quest4_5.pop()\n",
    "print(seq_quest4_5)\n",
    "print(temp)\n",
    "temp = seq_quest4_5.pop(1)\n",
    "print(temp)\n",
    "print(seq_quest4_5)\n",
    "#--------------------------\n",
    "seq_quest4_5=list(range(4))\n",
    "#按位置移除一个元素\n",
    "print(\"--------按位置移除一个元素--------\\n原数组：\",seq_quest4_5)\n",
    "seq_quest4_5.remove(1)\n",
    "print(seq_quest4_5)\n",
    "#按位置移除任意个元素\n",
    "seq_quest4_5=list(range(10))\n",
    "print(\"--------按位置移除任意个元素------\\n原数组：\",seq_quest4_5)\n",
    "del(seq_quest4_5[1])\n",
    "print(seq_quest4_5)\n",
    "del(seq_quest4_5[1:3])\n",
    "print(seq_quest4_5)\n",
    "seq_quest4_5[1:4]=[]\n",
    "print(seq_quest4_5)"
   ]
  },
  {
   "cell_type": "code",
   "execution_count": null,
   "metadata": {
    "scrolled": false
   },
   "outputs": [],
   "source": [
    "#7. 常用的一些操作\n",
    "L=list(range(10))\n",
    "#反转操作\n",
    "print(\"原数组：\",L)\n",
    "print(\"-------列表反转------\")\n",
    "L.reverse()\n",
    "print(L)\n",
    "print(list(reversed(L)))\n",
    "#连接操作\n",
    "print(\"-------连接操作------\")\n",
    "L1 = list(range(3))\n",
    "L2 = ['spam', 'eggs', 'ham', 'toast']\n",
    "print(\"列表L1：\",L1)\n",
    "print(\"列表L2：\",L2)\n",
    "L3 = L1+L2\n",
    "print(\"列表连接L3：\",L3)\n",
    "#列表重复操作\n",
    "print(\"---------列表重复操作--------\")\n",
    "L4 = L3*3\n",
    "print(\"列表重复L4:\",L4)\n",
    "#列表排序\n",
    "print(\"-------列表排序------\")\n",
    "L2.sort()\n",
    "print(\"列表排序L2：\", L2)\n",
    "#问 L3能否使用sort()函数？\n",
    "\n"
   ]
  },
  {
   "cell_type": "code",
   "execution_count": null,
   "metadata": {},
   "outputs": [],
   "source": [
    "#8. 列表拷贝\n",
    "print(\"-------列表拷贝------\")\n",
    "L=list(range(5))\n",
    "L_copy = L.copy()\n",
    "L_ref = L\n",
    "print(\"L：    \",L)\n",
    "print(\"L_copy:\",L_copy)\n",
    "L[2] = -4\n",
    "print(\"L：    \",L)\n",
    "print(\"L_copy:\",L_copy)\n",
    "#问：如果L_ref = L,L发生了改变，L_ref改变么？\n",
    "#print(\"L：    \",L)\n",
    "print(\"L_ref:\",L_ref)\n",
    "#列表清零\n",
    "print(\"-------列表清零------\")\n",
    "print(\"L:\",L)\n",
    "L.clear()\n",
    "print(\"L:\",L)"
   ]
  },
  {
   "cell_type": "code",
   "execution_count": null,
   "metadata": {},
   "outputs": [],
   "source": [
    "#9. 检索列表中的元素\n",
    "L = [1,3,2,5,2,3,1,0,3,4,1]\n",
    "#定位某一元素第一次出现的位置\n",
    "print(L.index(3))\n",
    "#计算某一元素出现的次数\n",
    "print(L.count(3))"
   ]
  },
  {
   "cell_type": "code",
   "execution_count": null,
   "metadata": {},
   "outputs": [],
   "source": [
    "#10.  矩阵（Matrix）操作\n",
    "matrix = [[1, 2, 3], [4, 5, 6], [7, 8, 9]]\n",
    "#可以看成是同样长度列表的列表\n",
    "print(matrix)\n",
    "print(matrix[1])\n",
    "print(matrix[1][1])\n",
    "print(matrix[0][1:])\n",
    "print(matrix[:][2])"
   ]
  }
 ],
 "metadata": {
  "kernelspec": {
   "display_name": "Python 3.8.8 ('base')",
   "language": "python",
   "name": "python3"
  },
  "language_info": {
   "codemirror_mode": {
    "name": "ipython",
    "version": 3
   },
   "file_extension": ".py",
   "mimetype": "text/x-python",
   "name": "python",
   "nbconvert_exporter": "python",
   "pygments_lexer": "ipython3",
   "version": "3.9.12"
  },
  "vscode": {
   "interpreter": {
    "hash": "3d894767a748ae32987cbebeaec93efb51fe7a630f5d0166a60f00b04d640165"
   }
  }
 },
 "nbformat": 4,
 "nbformat_minor": 2
}
