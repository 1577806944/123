{
 "cells": [
  {
   "cell_type": "code",
   "execution_count": 2,
   "metadata": {},
   "outputs": [
    {
     "name": "stdout",
     "output_type": "stream",
     "text": [
      "1.构造方式（空列表）\t：D = {}\n",
      "2.包含两个项目的字典\t：D = {'name': 'Bob', 'age': 40}\n",
      "3.嵌套字典\t\t：E = {'cto': {'name': 'Bob', 'age': 40}}\n",
      "4.另一种构造方法\t：D = {'name': 'Bob', 'age': 40}\n",
      "5.单独构造keys的方法\t：D = {'name': None, 'age': None}\n",
      "6.keys和values对\t：D = {'name': 'Bob', 'age': 40}\n",
      "7.zipped keys和values对\t：D = {'name': 'Bob', 'age': 40}\n"
     ]
    }
   ],
   "source": [
    "#1. 字典的基本构造方法\n",
    "D={}\n",
    "print('1.构造方式（空列表）\\t：D =',D)\n",
    "D={'name': 'Bob', 'age': 40}\n",
    "print('2.包含两个项目的字典\\t：D =',D)\n",
    "E={'cto': {'name': 'Bob', 'age': 40}}\n",
    "print('3.嵌套字典\\t\\t：E =',E)\n",
    "D = dict(name='Bob', age=40)\n",
    "print('4.另一种构造方法\\t：D =',D)\n",
    "D = dict([('name', 'Bob'), ('age', 40)])\n",
    "#单独构造keys的方法\n",
    "D = dict.fromkeys(['name', 'age'])\n",
    "print('5.单独构造keys的方法\\t：D =',D)\n",
    "#pairs\n",
    "keyslist = ['name','age']\n",
    "valueslist = ['Bob',40]\n",
    "D = dict(zip(keyslist, valueslist))\n",
    "print('6.keys和values对\\t：D =',D)\n",
    "D = dict([('name', 'Bob'), ('age', 40)])\n",
    "print('7.zipped keys和values对\\t：D =',D)"
   ]
  },
  {
   "cell_type": "code",
   "execution_count": 3,
   "metadata": {},
   "outputs": [
    {
     "name": "stdout",
     "output_type": "stream",
     "text": [
      "1.获得字典的keys：\t\t\t: dict_keys(['name', 'age'])\n",
      "2.获得字典的values：\t\t\t: dict_values(['Bob', 40])\n",
      "3.根据字典中某个key的值索引values\t: Bob\n",
      "Bob\n",
      "4.判断某个键是否属于该字典\t\t: True\n",
      "5.判断某个值是否属于该字典\t\t: False\n"
     ]
    }
   ],
   "source": [
    "#2. 字典的索引方式\n",
    "print('1.获得字典的keys：\\t\\t\\t:',D.keys())\n",
    "print('2.获得字典的values：\\t\\t\\t:',D.values())\n",
    "print('3.根据字典中某个key的值索引values\\t:',D['name'])\n",
    "#问：嵌套字典E中索引到CTO的Name如何操作？\n",
    "print(E['cto']['name'])\n",
    "#判断某个键是否属于字典,或值属于字典\n",
    "print('4.判断某个键是否属于该字典\\t\\t:','name' in D)\n",
    "print('5.判断某个值是否属于该字典\\t\\t:','40' in D.values())"
   ]
  },
  {
   "cell_type": "code",
   "execution_count": 4,
   "metadata": {},
   "outputs": [
    {
     "name": "stdout",
     "output_type": "stream",
     "text": [
      "D = {'name': 'Bob', 'age': 40},\n",
      "len(D) = 2\n",
      "E = {'cto': {'name': 'Bob', 'age': 40}},\n",
      "len(E) = 1\n"
     ]
    }
   ],
   "source": [
    "#3. 获得字典的长度，使用len函数\n",
    "#问：len(D)=?\n",
    "#问：len(E)=?\n",
    "print('D = {0},\\nlen(D) = {1}'.format(D,len(D)))\n",
    "print('E = {0},\\nlen(E) = {1}'.format(E,len(E)))"
   ]
  },
  {
   "cell_type": "code",
   "execution_count": 5,
   "metadata": {},
   "outputs": [
    {
     "name": "stdout",
     "output_type": "stream",
     "text": [
      "1.字典D的初始值是\t: {'eggs': 3, 'spam': 2, 'ham': 1}\n",
      "2.修改一个键的值\t: {'eggs': 3, 'spam': 2, 'ham': ['grill', 'bake', 'fry']}\n",
      "3.删除一个键及其值\t: {'spam': 2, 'ham': ['grill', 'bake', 'fry']}\n",
      "4.增加一个键及其值\t: {'spam': 2, 'ham': ['grill', 'bake', 'fry'], 'brunch': 'Bacon'}\n",
      "5.清除所有键及其值\t: {}\n"
     ]
    }
   ],
   "source": [
    "#4. 字典的增删改\n",
    "#for example, D is a dictionary\n",
    "D = {'eggs': 3, 'spam': 2, 'ham': 1}\n",
    "print(\"1.字典D的初始值是\\t:\",D)\n",
    "#更改一个键的值\n",
    "D['ham'] = ['grill','bake','fry']\n",
    "print(\"2.修改一个键的值\\t:\",D)\n",
    "#删除一个键\n",
    "del(D['eggs'])\n",
    "print(\"3.删除一个键及其值\\t:\",D)\n",
    "#增加一个键值\n",
    "D['brunch'] = 'Bacon'\n",
    "print(\"4.增加一个键及其值\\t:\",D)\n",
    "#清除所有item\n",
    "D.clear()\n",
    "print(\"5.清除所有键及其值\\t:\",D)"
   ]
  },
  {
   "cell_type": "code",
   "execution_count": null,
   "metadata": {},
   "outputs": [],
   "source": [
    "#5. get方法的使用\n",
    "#initiate dictionary D\n",
    "D={'spam': 2, 'ham': 1, 'eggs': 3}\n",
    "#get value by an exist key in the dictionary D\n",
    "print('1. 获得D中已存在的key的值\\t:',D.get('spam'))\n",
    "#如果D中没有指定的key，get返回what?\n",
    "print('2. D中指定的key不存在，返回\\t:',D.get('toast'))\n",
    "#如果指定的key不存在D中，用get方法中的default可指定初值\n",
    "print('3. default可指定key的初值\\t:',D.get('toast',24))\n",
    "#问此时D的值是多少？\n",
    "print('4.get方法调用后，字典\\t\\t:',D)"
   ]
  },
  {
   "cell_type": "code",
   "execution_count": null,
   "metadata": {},
   "outputs": [],
   "source": [
    "#6. update & pop 方法的使用\n",
    "#initiate D\n",
    "D = {'spam': 2, 'ham': 1, 'eggs': 3}\n",
    "#dictionary D update itself\n",
    "D.update({'toast':4,'muffin':5})\n",
    "print('1.update用于添加\\t:',D)\n",
    "D.update({'spam':1})\n",
    "print('2.update用于修改\\t:',D)\n",
    "#通过key直接索引后直接修改\n",
    "D['spam'] = 2\n",
    "print\n",
    "#pop method usage\n",
    "value_pop = D.pop('muffin')\n",
    "print('4.使用pop后的D\\t\\t:',D)\n",
    "print('5.弹出的值\\t\\t:',value_pop)"
   ]
  },
  {
   "cell_type": "code",
   "execution_count": null,
   "metadata": {},
   "outputs": [],
   "source": [
    "#7. 字典（dictionaty）其他常用方法\n",
    "#initiate D\n",
    "D = {'spam': 2, 'ham': 1, 'eggs': 3}\n",
    "#显示字典的keys\n",
    "D_1 = list(D.keys())\n",
    "#字典的一种循环方式的增长\n",
    "F={x**2:x*2 for x in range(10)}\n",
    "print(D_1)\n",
    "print(F)"
   ]
  },
  {
   "cell_type": "code",
   "execution_count": null,
   "metadata": {},
   "outputs": [],
   "source": [
    "#8. 字典是无序的。（无序的佐证）\n",
    "dict1 = {'a':1,'b':2}\n",
    "dict2 = {'b':2,\"a\":1}\n",
    "print(dict1 == dict2)\n",
    "print(dict1.keys(),dict2.keys())\n",
    "print(dict1.keys() == dict2.keys())\n",
    "print(dict1.values(),dict2.values())\n",
    "print(dict1.values() == dict2.values())\n",
    "print(dict1.items(),dict2.items())\n",
    "print(dict1.items() == dict2.items())"
   ]
  },
  {
   "cell_type": "code",
   "execution_count": 3,
   "metadata": {},
   "outputs": [
    {
     "name": "stdout",
     "output_type": "stream",
     "text": [
      "1\n",
      "2\n",
      "3\n",
      "1 1\n",
      "2 4\n",
      "3 9\n"
     ]
    }
   ],
   "source": [
    "for x in {\"1\":1,\"2\":4,\"3\":9}:\n",
    "    print(x)\n",
    "ddd = {\"1\":1,\"2\":4,\"3\":9}\n",
    "for x in ddd.keys():\n",
    "    print(x,ddd[x])"
   ]
  }
 ],
 "metadata": {
  "kernelspec": {
   "display_name": "Python 3.8.8 ('base')",
   "language": "python",
   "name": "python3"
  },
  "language_info": {
   "codemirror_mode": {
    "name": "ipython",
    "version": 3
   },
   "file_extension": ".py",
   "mimetype": "text/x-python",
   "name": "python",
   "nbconvert_exporter": "python",
   "pygments_lexer": "ipython3",
   "version": "3.9.12"
  },
  "vscode": {
   "interpreter": {
    "hash": "3d894767a748ae32987cbebeaec93efb51fe7a630f5d0166a60f00b04d640165"
   }
  }
 },
 "nbformat": 4,
 "nbformat_minor": 2
}
