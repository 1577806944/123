{
 "cells": [
  {
   "cell_type": "code",
   "execution_count": null,
   "metadata": {},
   "outputs": [],
   "source": [
    "#1. 基本概念\n",
    "'''\n",
    "函数：组织好的、可重复使用的，用来实现单一或相关功能的代码段\n",
    "，隐蔽复杂代码块，简化程序结构，提高可读性，\n",
    "提高应用的模块性和代码的重复利用率。\n",
    "'''"
   ]
  },
  {
   "cell_type": "code",
   "execution_count": null,
   "metadata": {},
   "outputs": [],
   "source": [
    "#2. 内建函数\n",
    "#Python内建函数：可通过函数名称和参数直接调用。\n",
    "print('-'*10)\n",
    "abs(-10)\n",
    "print(abs(-10))\n",
    "print('-'*10)\n",
    "type(range(10))\n",
    "print(type(range(10)))\n",
    "print('-'*10)\n",
    "len([1]*10)\n",
    "print(len([1]*10))\n",
    "len([1]*10)"
   ]
  },
  {
   "cell_type": "code",
   "execution_count": 1,
   "metadata": {},
   "outputs": [
    {
     "name": "stdout",
     "output_type": "stream",
     "text": [
      "--------------------\n",
      "a\n",
      "a\n"
     ]
    }
   ],
   "source": [
    "#3. 自建函数\n",
    "#用户自定义函数：先定义（指定函数名称并编写一系列程序语句)，后调用。\n",
    "'''\n",
    "def <name>(arg1,arg2,…argN):\n",
    "\t<statements>\n",
    "\treturn 表达式\n",
    "'''\n",
    "#问题1：如下两个写法是否有区别？\n",
    "def myFunc1(arg1):\n",
    "\tprint(arg1)\n",
    "def myFunc2(arg1)->None:\n",
    "\tprint(arg1)\n",
    "#myFunc1('a')\n",
    "#myFunc2('a')\n",
    "#------------------------------#\n",
    "print('-'*20)\n",
    "def myFunc3(arg1):\n",
    "\tprint(arg1)\n",
    "\treturn arg1\n",
    "#问题2: myFunc3执行得到什么结果？\n",
    "print(myFunc3('a'))"
   ]
  }
 ],
 "metadata": {
  "kernelspec": {
   "display_name": "Python 3.8.8 ('base')",
   "language": "python",
   "name": "python3"
  },
  "language_info": {
   "codemirror_mode": {
    "name": "ipython",
    "version": 3
   },
   "file_extension": ".py",
   "mimetype": "text/x-python",
   "name": "python",
   "nbconvert_exporter": "python",
   "pygments_lexer": "ipython3",
   "version": "3.8.8"
  },
  "vscode": {
   "interpreter": {
    "hash": "3d894767a748ae32987cbebeaec93efb51fe7a630f5d0166a60f00b04d640165"
   }
  }
 },
 "nbformat": 4,
 "nbformat_minor": 2
}
