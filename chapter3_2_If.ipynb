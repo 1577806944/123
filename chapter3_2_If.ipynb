{
 "cells": [
  {
   "cell_type": "code",
   "execution_count": null,
   "metadata": {},
   "outputs": [],
   "source": [
    "#条件语句\n",
    "#if,elif,else\n",
    "'''\n",
    "设计一个分数评级程序,要求如下\n",
    "0<=score<60 不及格；60<=score<70 及格；70<=score<80 中等；80<=score<90 良好；90<=score<=100 优秀\n",
    "'''\n",
    "score = 86\n",
    "if (score <60 and score >=0):\n",
    "    print(\"不及格\",score)\n",
    "elif (score <70 and score >=60):\n",
    "    print(\"及格\",score)\n",
    "elif (score < 80) & (score >=70):\n",
    "    print(\"中等\",score)\n",
    "elif (score <90 and score >=80):\n",
    "    print(\"良好\",score)\n",
    "else:\n",
    "    print(\"优秀\",score)\n",
    "\n",
    "#问题1：请问&与and有什么区别？如果把第一行的and改成&有什么后果？\n",
    "#问题2：请问输入为-10或者是120会有什么结果？如何修改？\n",
    "#问题3：该程序是否可以被优化？"
   ]
  },
  {
   "cell_type": "code",
   "execution_count": null,
   "metadata": {},
   "outputs": [],
   "source": [
    "'''\n",
    "switch-case在python内没有,\n",
    "可使用if-elif-else块来实现switch-case\n",
    "假如一个商店的食品有spam,ham,eggs,bacon。\n",
    "其单价分别是￥1.25,￥1.99,￥0.99,￥1.10,\n",
    "要求用户选择上述某个商品的时候,能够打印出对饮的单价。\n",
    "'''\n",
    "'''\n",
    "C/C++中可以用switch-case直接实现,但是python内是没有switch的,可以用if-elif-else实现\n",
    "C/C++:\n",
    "struct food\n",
    "{\n",
    "    const int spam = 1;\n",
    "    const int ham = 2;\n",
    "    const int eggs = 3;\n",
    "    const int bacon = 4;\n",
    "}\n",
    "int choice = 1;\n",
    "switch(choice)\n",
    "{\n",
    "    case food.spam:\n",
    "        cout<<1.25<<endl;\n",
    "        break;\n",
    "    case food.ham:\n",
    "        cout<<1.99<<endl;\n",
    "        break;\n",
    "    case food.eggs:\n",
    "        cout<<0.99<<endl;\n",
    "        break;\n",
    "    case food.bacon:\n",
    "        cout<<1.10<<endl;\n",
    "        break;\n",
    "    case default:\n",
    "        cout<<\"on such food\"<<endl;\n",
    "        break;\n",
    "}\n",
    "'''\n",
    "#python \n",
    "choice = 'eggs'\n",
    "if (choice == 'spam'):\n",
    "    print(1.25)\n",
    "elif (choice == 'ham'):\n",
    "    print(1.99)\n",
    "elif (choice == 'eggs'):\n",
    "    print(0.99)\n",
    "elif (choice == 'bacon'):\n",
    "    print(1.10)\n",
    "else :\n",
    "    print('no such food')\n",
    "#python可以用字典直接实现上述功能\n",
    "#choice = 'spam'\n",
    "#print({'spam':1.25,'eggs':0.99,'ham':1.99,'bacon':1.10}[choice])"
   ]
  },
  {
   "cell_type": "code",
   "execution_count": null,
   "metadata": {},
   "outputs": [],
   "source": [
    "#if-else 作为三元表达式\n",
    "#问题1：什么是三元表达式？\n",
    "B = 340\n",
    "A = B if(B>10) else 10\n",
    "print(A)"
   ]
  }
 ],
 "metadata": {
  "kernelspec": {
   "display_name": "Python 3.7.9 ('base')",
   "language": "python",
   "name": "python3"
  },
  "language_info": {
   "codemirror_mode": {
    "name": "ipython",
    "version": 3
   },
   "file_extension": ".py",
   "mimetype": "text/x-python",
   "name": "python",
   "nbconvert_exporter": "python",
   "pygments_lexer": "ipython3",
   "version": "3.7.9"
  },
  "vscode": {
   "interpreter": {
    "hash": "91f6a04488c6f6c893277af113acfe6c1e243656720881e8cb90c9c6953cd34f"
   }
  }
 },
 "nbformat": 4,
 "nbformat_minor": 2
}
